{
 "cells": [
  {
   "cell_type": "markdown",
   "id": "dd21efe9",
   "metadata": {},
   "source": [
    "# Assignment 6\n",
    "### Do Question 6, and three more questions of your choice."
   ]
  },
  {
   "cell_type": "markdown",
   "id": "707067e4",
   "metadata": {},
   "source": [
    "### 1. Set review:\n",
    "\n",
    "- Operations on sets (hints: sketch venn-type diagrams, and showing $A=B$ is the same as $A \\subseteq B$ and $B \\subseteq A$):\n",
    "- $ (A \\backslash B) \\cup (A \\cap B) = A $\n",
    "- $ A \\cup ( B \\cap C) = (A \\cup B) \\cap (A \\cup C)$\n",
    "- $ A \\backslash (B \\cup C) = A\\backslash B \\cap A \\backslash C $ and $A \\backslash (B \\cap C) = A \\backslash B \\cup A \\backslash C$\n",
    "\n",
    "- Plot the following sets: \n",
    "    - $A = \\{x \\in \\mathbb{R}: x^2 -1 \\ge 0 \\}$ \n",
    "    - $B = \\{ (x,y) \\in \\mathbb{R}^2: 3x -2y \\ge 0 \\}$\n",
    "    - $C = \\{ (x,y) \\in \\mathbb{R}^2: xy \\ge 3 \\}$\n",
    "    - $D = \\{ (x_1,x_2) \\in \\mathbb{R}^2: x_1 \\ge 0, x_2 \\ge 0, x_1 + x_2 \\le 1 \\}$\n",
    "- The power set of $A$ is the set of all subsets of $A$, denoted $\\mathcal{P}(A)$. What is the power set of $\\{ 1, 2, 3 \\}$? (Hint: The empty set is a subset of every set; the whole set is a subset of itself.)"
   ]
  },
  {
   "cell_type": "markdown",
   "id": "9c527708",
   "metadata": {},
   "source": [
    "### 2. Probability space basics:\n",
    "\n",
    "- What are the outcomes for rolling a single, fair **THREE**-sided die? What's the set of all events? What are the probabilities of all the events?\n",
    "- What about flipping a fair coin twice? (Hint: There are 4 outcomes, and $2^{4} = 16$ events.)\n",
    "- What about rolling the **THREE**-sided die twice, and adding the results? Don't write down the set of all the possible events, but describe briefly what it looks like and how large it is. (Hint: There are 5 outcomes, and $2^{5}=32$ possible events.)\n",
    "\n",
    "Obviously, a \"three-sided die\" doesn't exist, but this keeps you from spending a lot of time suffering in working out sets of events."
   ]
  },
  {
   "cell_type": "markdown",
   "id": "8a4f2a62",
   "metadata": {},
   "source": [
    "## 2a: Rolling a single, fair THREE-sided die\n",
    "\n",
    "**Outcomes**: sample space set of all possible outcome is: S = {1, 2, 3}\n",
    "\n",
    "**Set of all event**: 3 possible outcomes --> 2^3 = 8 possible events --> E = {empty, {1}, {2}, {3}, {1,2}, {1,3}, {2,3}, {1,2,3}}\n",
    "\n",
    "**Probabilities of all the events**: die is fair --> \n",
    "\n",
    "        each single outcome is equally likely: P({1}) = P({2}) = P({3}) = 1/3\n",
    "\n",
    "        P({1,2}) = P({1,3}) = P({2,3}) = 2/3 (sum of both probabilities)\n",
    "\n",
    "        P(empty) = 0 (impossible)\n",
    "\n",
    "        P({1,2,3}) = 1 (certain)"
   ]
  },
  {
   "cell_type": "markdown",
   "id": "5527a9b8",
   "metadata": {},
   "source": [
    "## 2b: Flipping a fair coin twice\n",
    "\n",
    "**Outcomes**: each flip can only be heads or tails --> 2^2 = 4 outcomes --> S = {HH, HT, TH, TT}\n",
    "\n",
    "**Events**: 2^4 = 16 events --> E = {empty, {HH}, {HT}, {TH}, {TT}, {HH, HT}, {HH, TH}, {HH, TT}, {HT, TH}, {HT, TT}, {TH, TT}, {HH, HT, TH}, {HH, HT, TT}, {HH, TH, TT}, {HT, TH, TT}, {HH, HT, TH, TT}}\n",
    "\n",
    "**Probabilities**:\n",
    "\n",
    "        each of the four outcomes has equal probability --> P({HH}) = P({HT}) = P({TH}) = P({TT}) = 1/4\n",
    "\n",
    "        P({HH, HT}) = P({HH, TH}) = P({HH, TT}) = P({HT, TH}) = P({HT, TT}) = P({TH, TT}) = 1/2\n",
    "\n",
    "        P({HH, HT, TH}) = P({HH, HT, TT}) = P({HH, TH, TT}) = P({HT, TH, TT}) = 3/4\n",
    "\n",
    "        P(empty) = 0 (impossible)\n",
    "\n",
    "        P({HH, HT, TH, TT}) = 1 (certain)"
   ]
  },
  {
   "cell_type": "markdown",
   "id": "0bc81690",
   "metadata": {},
   "source": [
    "## 2c: Rolling the THREE-sided die twice, and adding the results\n",
    "\n",
    "**Outcomes**: sum min: 1+1 = 2; sum max 3+3 --> = 5 outcomes --> S = {2, 3, 4, 5, 6}\n",
    "\n",
    "**Events**: 2^5 = 32 events. However, there are only 3^2 = 9 roll combinations that produce those sums, so this requires listing the distinct combination outcomes that sum to 2, 3, 4, 5, and 6. Only one event sums to 2 (1,1), and one event sums to 6 (3,3). In between are increasing numbers of events that sum to 3 and 4 (e.g, (1,2) and (2,1) --> 2), with max number of events summing to 4, then decreasing for 5 and 6. \n",
    "\n",
    "**Probabilities**: the probability distribution for the sum would be symmetric around peak at 4 --> P(2) = 1/9, P(3) = 2/9, P(4) = 3/9, P(5) = 2/9, P(6)= 1/9"
   ]
  },
  {
   "cell_type": "markdown",
   "id": "75676fb3",
   "metadata": {},
   "source": [
    "\n",
    "### 3. Random Variable Basics\n",
    "\n",
    "- Imagine rolling a fair single six-sided die. There are 6 outcomes, all equally likely. Derive the sample space and the space of events. What are the probabilities of the outcomes and events? \n",
    "- Consider a random variable that assigns the square root of the number of pips on the die to each outcome. Write code to simulate rolling a single six-sided die and computing the value of the random variable. Simulate 5000 rolls and plot the mass function and ECDF of the random variable.\n",
    "- Imagine rolling two fair six-sided die. Consider a random variable that adds up the pips on the dice. There are 11 outcomes (2 , 3, ..., 12), but not all are equally likely. Derive the sample space and **describe** the space of events. What are the probabilities of the outcomes?\n",
    "- Write code to simulate the random variable (rolling two six-sided die and adding the results together). Simulate 10000 rolls and plot the mass function and ECDF."
   ]
  },
  {
   "cell_type": "markdown",
   "id": "91ac1a9a",
   "metadata": {},
   "source": [
    "## 3a: Rolling a six-sided die\n",
    "\n",
    "**Sample space**: 6 outcomes --> S = {1, 2, 3, 4, 5, 6}\n",
    "\n",
    "**Events**: set of all events has 2^6 = 64 possibilities, and includes the following situations:\n",
    "\n",
    "        empty set (no outcome)\n",
    "        all single-outcome events (rolling a 1, a 2, etc.)\n",
    "        all multi-outcome events (rolling an even number, rolling >= 4, etc.)\n",
    "        entire sample space (something happens)\n",
    "\n",
    "**Probabilities**\n",
    "\n",
    "        Each single outcome --> P = 1/6\n",
    "\n",
    "        Any event with 2 outcomes --> P = 1/3 (e.g., P({2,3}) = 2/6 = 1/3)\n",
    "\t\n",
    "        Any event with 3 outcomes --> P = 1/2 (e.g., P({2,4,6}) = 3/6 = 1/2)\n",
    "\n",
    "        P(empty) = 0 (impossible)\n",
    "\n",
    "        P({1,2,3,4,5,6}) = 1 (certain)\n",
    "\n",
    "        Rule --> Probability = (# of outcomes in event) ÷ (total outcomes in sample space)\n",
    "        "
   ]
  },
  {
   "cell_type": "markdown",
   "id": "795e7e96",
   "metadata": {},
   "source": [
    "## 3b"
   ]
  },
  {
   "cell_type": "code",
   "execution_count": 103,
   "id": "8dc8ef08",
   "metadata": {},
   "outputs": [
    {
     "data": {
      "image/png": "[encoded data removed]",
      "text/plain": [
       "<Figure size 1000x400 with 2 Axes>"
      ]
     },
     "metadata": {},
     "output_type": "display_data"
    }
   ],
   "source": [
    "'''\n",
    "Consider a random variable that assigns the square root of the number of pips on the die to each outcome. \n",
    "Write code to simulate rolling a single six-sided die and computing the value of the random variable.\n",
    "Simulate 5000 rolls and plot the mass function and ECDF of the random variable.\n",
    "'''\n",
    "\n",
    "import numpy as np\n",
    "import matplotlib.pyplot as plt\n",
    "\n",
    "# Simulate 5000 die rolls from 1 to 6\n",
    "n_rolls = 5000\n",
    "rolls = np.random.randint(1, 7, size=n_rolls)   \n",
    "\n",
    "# Define random variable X = sqrt(number on die)\n",
    "X = np.sqrt(rolls)\n",
    "\n",
    "# Compute PMF\n",
    "values, counts = np.unique(X, return_counts=True)\n",
    "pmf = counts / n_rolls\n",
    "\n",
    "# Compute ECDF\n",
    "sorted_X = np.sort(X)\n",
    "ecdf = np.arange(1, n_rolls + 1) / n_rolls\n",
    "\n",
    "# Plot PMF\n",
    "plt.figure(figsize=(10, 4))\n",
    "\n",
    "plt.subplot(1, 2, 1)\n",
    "plt.stem(values, pmf)\n",
    "plt.title(\"Empirical PMF of X = sqrt(pips)\")\n",
    "plt.xlabel(\"X value (sqrt of die face)\")\n",
    "plt.ylabel(\"Probability\")\n",
    "plt.grid(True)\n",
    "\n",
    "# Plot ECDF\n",
    "plt.subplot(1, 2, 2)\n",
    "plt.step(sorted_X, ecdf, where='post')\n",
    "plt.title(\"Empirical CDF of X = sqrt(pips)\")\n",
    "plt.xlabel(\"X value (sqrt of die face)\")\n",
    "plt.ylabel(\"Cumulative Probability\")\n",
    "plt.grid(True)\n",
    "\n",
    "plt.tight_layout()\n",
    "plt.show()"
   ]
  },
  {
   "cell_type": "markdown",
   "id": "d0287b06",
   "metadata": {},
   "source": [
    "## 3c: Roll two fair six-sided die and add up the pips\n",
    "\n",
    "**Outcomes**: sum min: 1+1 = 2; sum max 6+6 = 12 --> = 11 outcomes --> S = {2, 3, 4, 5, 6, 7, 8, 9, 10, 11, 12}\n",
    "\n",
    "**Events**: 2^11 = 2,048 events. However there are only 6^2 = 36 possible roll combinations to sum, so these collapse into the 11 possible sums of the random variable X. Determining those events requires listing the distinct combinations that sum to 2, 3, 4, 5, 6, 7, 8, 9, 10, 11, 12. \n",
    "\n",
    "Only one event sums to 2 (1,1), and one event sums to 12 (6,6). In between are increasing numbers of events that sum to 3 through 7 (e.g, (1,2) and (2,1) --> 2); (1,3), (2,2), (3,1) --> 3) with max number of events summing to 7, then decreasing as sums approach 12.\n",
    "\n",
    "**Probabilities**: Since each of the 36 dice combinations is equally likely, each combination has P = 1/36. The probability distribution for the sum would be symnmetric around the peak at 7 --> P(2) = 1/36, P(3) = 2/36, P(4) = 3/36, P(5) = 4/36, P(6)= 5/36, P(7) = 6/36, P(8) = 5/36, P(9) = 4/36, P(10) = 3/36, P(11) = 2/36, P(12) = 1/36"
   ]
  },
  {
   "cell_type": "markdown",
   "id": "a50b774b",
   "metadata": {},
   "source": [
    "## 3d"
   ]
  },
  {
   "cell_type": "code",
   "execution_count": 104,
   "id": "e4959b90",
   "metadata": {},
   "outputs": [
    {
     "data": {
      "image/png": "[encoded data removed]",
      "text/plain": [
       "<Figure size 1200x500 with 2 Axes>"
      ]
     },
     "metadata": {},
     "output_type": "display_data"
    }
   ],
   "source": [
    "'''\n",
    "Write code to simulate the random variable (rolling two six-sided die and adding the results together). \n",
    "Simulate 10000 rolls and plot the mass function and ECDF.\n",
    "'''\n",
    "\n",
    "# Simulate 10,000 rolls \n",
    "n_rolls = 10000\n",
    "dice = np.random.randint(1, 7, size=(n_rolls, 2))\n",
    "sums = dice.sum(axis=1)  # sums range from 2 to 12\n",
    "\n",
    "# Compute PMF\n",
    "values, counts = np.unique(sums, return_counts=True)\n",
    "pmf = counts / n_rolls\n",
    "\n",
    "# Compute ECDF\n",
    "sorted_sums = np.sort(sums)\n",
    "ecdf = np.arange(1, n_rolls + 1) / n_rolls\n",
    "\n",
    "# Plot PMF and ECDF\n",
    "plt.figure(figsize=(12, 5))\n",
    "\n",
    "# --- PMF \n",
    "plt.subplot(1, 2, 1)\n",
    "plt.bar(values, pmf, width=0.6, color=\"skyblue\", edgecolor=\"black\")\n",
    "plt.title(\"PMF of Sum of Two Dice (10,000 Rolls)\")\n",
    "plt.xlabel(\"Sum of Dice\")\n",
    "plt.ylabel(\"Probability\")\n",
    "plt.grid(axis=\"y\", linestyle=\"--\", alpha=0.5)\n",
    "\n",
    "# --- ECDF \n",
    "plt.subplot(1, 2, 2)\n",
    "plt.step(sorted_sums, ecdf, where=\"post\", color=\"steelblue\")\n",
    "plt.title(\"ECDF of Sum of Two Dice (10,000 Rolls)\")\n",
    "plt.xlabel(\"Sum of Dice\")\n",
    "plt.ylabel(\"Cumulative Probability\")\n",
    "plt.grid(linestyle=\"--\", alpha=0.5)\n",
    "\n",
    "plt.tight_layout()\n",
    "plt.show()"
   ]
  },
  {
   "cell_type": "markdown",
   "id": "95f1f953",
   "metadata": {
    "vscode": {
     "languageId": "plaintext"
    }
   },
   "source": [
    "### 4. Roulette\n",
    "\n",
    "This question will be easiest if you read the whole thing, and come up with a clear plan for how you'll write the code.\n",
    "\n",
    "Roulette is a betting game. There are 37 possible outcomes: A green 0, and the numbers 1 to 36 in red and black. Here is a picture of the (American, not Euro, it has an extra green 00) betting board:\n",
    "\n",
    "![Roulette](./src/euro_roulette.jpg)\n",
    "\n",
    "To bet, you must pay a dollar, but then you get payouts that depend on how many slots are in your bet\n",
    "- Basic bets:\n",
    "    - Red or Black slots\n",
    "    - Odd or Even slots\n",
    "    - A single slots, like 20\n",
    "- More complex bets:\n",
    "    - Split: Two adjacent slots (e.g. {1,2})\n",
    "    - Square: Four adjacent slots (e.g. {1,2,4,5})\n",
    "    - Street: Three slots in a row (e.g. {1,2,3})\n",
    "    - Line: Six slots (e.g. {1,2,3,4,5,6})\n",
    "In general, you can only bet on 1, 2, 3, 4, 6 slots, 12 slots, or 18 slots. If your bet occurs when the wheel is spun, you gain 36/K-1 where $K$ is the number of slots you bet on; if not, you lose a dollar and get -1.\n",
    "\n",
    "- Write code to model spinning the roulette wheel, including the colors and numbers (you could make two lists of number and color and draw a random number between 0 and 37... or use a dataframe with color and number variables and sample it... or use a dict with key to number/color pairs...)\n",
    "- Describe the probability space associated with the roulette wheel: Outcomes, events, probabilities (If there are 37 outcomes, there are $2^{37}= 137,438,953,472$ events, by the way)\n",
    "- You wrote code to generate a spin of the roulette wheel. Now write a function that takes a basic or complex bet as an argument, and returns the result for the player (win or lose, and the payout 36/K-1 or -1)\n",
    "- Simulate betting on red, betting on odd, betting on 7, a split, and a line 1000 times each.\n",
    "- Compute the average values for the bets you just simulated. What are the expected average payoffs?"
   ]
  },
  {
   "cell_type": "markdown",
   "id": "20499cd9",
   "metadata": {},
   "source": [
    "## 4a: Model roulette wheel"
   ]
  },
  {
   "cell_type": "code",
   "execution_count": 105,
   "id": "f2cf87dd",
   "metadata": {},
   "outputs": [
    {
     "name": "stdout",
     "output_type": "stream",
     "text": [
      "Spin 1: 13 (black)\n",
      "Spin 2: 24 (black)\n",
      "Spin 3: 30 (red)\n",
      "Spin 4: 26 (black)\n",
      "Spin 5: 2 (black)\n"
     ]
    }
   ],
   "source": [
    "## Step 1: Represent the American roulette wheel (38 slots)\n",
    "'''\t- One green 0\n",
    "    - One green 00\n",
    "    - Numbers 1-36, alternating between red and black\n",
    "        - Red numbers: 1,3,5,7,9,12,14,16,18,19,21,23,25,27,30,32,34,36\n",
    "        - Black numbers: 2,4,6,8,10,11,13,15,17,20,22,24,26,28,29,31,33,35\n",
    "'''\n",
    "\n",
    "red_numbers = [1,3,5,7,9,12,14,16,18,19,21,23,25,27,30,32,34,36]\n",
    "black_numbers = [2,4,6,8,10,11,13,15,17,20,22,24,26,28,29,31,33,35]\n",
    "\n",
    "## Step 2: Model the wheel by assigning each number its corresponding color\n",
    "\n",
    "numbers = ['0', '00'] + list(range(1, 37))\n",
    "colors = []\n",
    "\n",
    "for n in numbers:\n",
    "    if n in ['0', '00']:\n",
    "        colors.append('green')\n",
    "    elif n in red_numbers:\n",
    "        colors.append('red')\n",
    "    else:\n",
    "        colors.append('black')\n",
    "\n",
    "## Step 3: Create function to simulate a spin\n",
    "\n",
    "import random\n",
    "\n",
    "def spin_wheel():\n",
    "    outcome = random.choice(numbers)\n",
    "    color = colors[numbers.index(outcome)]\n",
    "    return outcome, color\n",
    "\n",
    "# Step 4: Spin the wheel multiple times and print results\n",
    "\n",
    "for i in range(5):\n",
    "    number, color = spin_wheel()\n",
    "    print(f\"Spin {i+1}: {number} ({color})\")\n"
   ]
  },
  {
   "cell_type": "markdown",
   "id": "0cdc070a",
   "metadata": {},
   "source": [
    "## 4b: Describe probability space\n",
    "\n",
    "**Sample space**: 38 equally likey outcomes --> (0, 00, and 1–36)\n",
    "\n",
    "**Events**: 2^38 = 274,877,906,944\n",
    "\n",
    "**Probabilities**: examples\n",
    "\n",
    "        Ball lands on red or black --> P = 18/38\n",
    "\n",
    "        Ball lands on green --> P = 2/38\n",
    "\t\n",
    "        Ball lands on even or odd --> P = 18/38\n",
    "\n",
    "        Ball lands on any specific number --> P = 1/38\n",
    "\n",
    "        Spin twice: Ball lands on red then black --> P = 324/1444 = .224"
   ]
  },
  {
   "cell_type": "markdown",
   "id": "efa2c182",
   "metadata": {},
   "source": [
    "## 4c: write a function that takes a basic or complex bet as an argument, and returns the result for the player (win or lose, and the payout 36/K-1 or -1)"
   ]
  },
  {
   "cell_type": "code",
   "execution_count": 106,
   "id": "f5f9e8ce",
   "metadata": {},
   "outputs": [],
   "source": [
    "from collections import Counter\n",
    "\n",
    "red_numbers = [1,3,5,7,9,12,14,16,18,19,21,23,25,27,30,32,34,36]\n",
    "black_numbers = [2,4,6,8,10,11,13,15,17,20,22,24,26,28,29,31,33,35]\n",
    "\n",
    "numbers = ['0', '00'] + [str(i) for i in range(1, 37)]\n",
    "colors = []\n",
    "\n",
    "for s in numbers:\n",
    "    if s in ('0', '00'):\n",
    "        colors.append('green')\n",
    "    else:\n",
    "        # convert s to int for checking membership in red_numbers\n",
    "        colors.append('red' if int(s) in red_numbers else 'black')\n",
    "\n",
    "wheel = list(zip(numbers, colors))\n",
    "\n",
    "def convert_bet_to_slots(bet):\n",
    "    \"\"\"\n",
    "    Converts bet description into a set of slot strings.\n",
    "    Accepts:\n",
    "      - 'red', 'black', 'odd', 'even' (strings)\n",
    "      - an int or numeric-string '7' for single-number bet\n",
    "      - an iterable of ints/strings for explicit sets (split/line/etc.)\n",
    "    Returns set of slot strings.\n",
    "    \"\"\"\n",
    "    # Handle common string bets\n",
    "    if isinstance(bet, str):\n",
    "        bl = bet.lower()\n",
    "        if bl == 'red':\n",
    "            return {s for s,c in zip(numbers, colors) if c=='red'}\n",
    "        if bl == 'black':\n",
    "            return {s for s,c in zip(numbers, colors) if c=='black'}\n",
    "        if bl == 'odd':\n",
    "            return {str(i) for i in range(1,37) if i%2==1}\n",
    "        if bl == 'even':\n",
    "            return {str(i) for i in range(1,37) if i%2==0}\n",
    "        # handle direct number strings like '7'\n",
    "        if bet in numbers:\n",
    "            return {bet}\n",
    "        raise ValueError(f\"Unknown bet string: {bet}\")\n",
    "\n",
    "    # Handle sets or lists like {'1','2'} or [1,2,3]\n",
    "    if isinstance(bet, (list, set, tuple)):\n",
    "        slots = {str(x) for x in bet}\n",
    "        bad = slots - set(numbers)\n",
    "        if bad:\n",
    "            raise ValueError(f\"Invalid slot(s): {bad}\")\n",
    "        return slots\n",
    "\n",
    "    # Handle plain integer bets like 7\n",
    "    if isinstance(bet, int) and str(bet) in numbers:\n",
    "        return {str(bet)}\n",
    "\n",
    "    raise ValueError(f\"Unsupported bet type: {bet}\")\n",
    " \n",
    "def spin_wheel():\n",
    "    ''' Spin function that returns a random slot and its color '''\n",
    "    slot = random.choice(numbers)\n",
    "    color = colors[numbers.index(slot)]\n",
    "    return slot, color\n",
    " \n",
    "def bet_result(bet):\n",
    "    \"\"\"\n",
    "    Play one spin for bet. Return (win_bool, net_float, outcome_slot).\n",
    "    net = 36/K - 1 if win, else -1. K = number of slots covered.\n",
    "    \"\"\"\n",
    "    slots = convert_bet_to_slots(bet)\n",
    "    K = len(slots)\n",
    "    outcome, color = spin_wheel()\n",
    "    win = str(outcome) in slots\n",
    "    net = (36.0 / K - 1.0) if win else -1.0\n",
    "    return win, net, outcome\n"
   ]
  },
  {
   "cell_type": "markdown",
   "id": "2035fa37",
   "metadata": {},
   "source": [
    "## 4d: Simulate betting on red, betting on odd, betting on 7, a split, and a line 1000 times each"
   ]
  },
  {
   "cell_type": "code",
   "execution_count": 107,
   "id": "c5c922f9",
   "metadata": {},
   "outputs": [
    {
     "name": "stdout",
     "output_type": "stream",
     "text": [
      "\n",
      "--- Bet on Red ---\n",
      "Wins: 458, Losses: 542\n",
      "Total net after 1000 spins: -84.00\n",
      "Average net per spin: -0.0840\n",
      "\n",
      "--- Bet on Odd ---\n",
      "Wins: 481, Losses: 519\n",
      "Total net after 1000 spins: -38.00\n",
      "Average net per spin: -0.0380\n",
      "\n",
      "--- Bet on 7 ---\n",
      "Wins: 31, Losses: 969\n",
      "Total net after 1000 spins: 116.00\n",
      "Average net per spin: 0.1160\n",
      "\n",
      "--- Split (1,2) ---\n",
      "Wins: 41, Losses: 959\n",
      "Total net after 1000 spins: -262.00\n",
      "Average net per spin: -0.2620\n",
      "\n",
      "--- Line (1-6) ---\n",
      "Wins: 146, Losses: 854\n",
      "Total net after 1000 spins: -124.00\n",
      "Average net per spin: -0.1240\n"
     ]
    }
   ],
   "source": [
    "def simulate_bet(bet, n=1000):\n",
    "    total = 0\n",
    "    wins = 0\n",
    "    for _ in range(n):\n",
    "        win, net, outcome = bet_result(bet)\n",
    "        total += net\n",
    "        if win:\n",
    "            wins += 1\n",
    "    avg = total / n\n",
    "    return wins, n - wins, total, avg\n",
    "    \n",
    "bets = {\n",
    "    \"Bet on Red\": \"red\",\n",
    "    \"Bet on Odd\": \"odd\",\n",
    "    \"Bet on 7\": \"7\",\n",
    "    \"Split (1,2)\": {'1','2'},\n",
    "    \"Line (1-6)\": {str(i) for i in range(1,7)}\n",
    "    }\n",
    "\n",
    "for name, bet in bets.items():\n",
    "    wins, losses, total, avg = simulate_bet(bet, n=1000)\n",
    "    print(f\"\\n--- {name} ---\")\n",
    "    print(f\"Wins: {wins}, Losses: {losses}\")\n",
    "    print(f\"Total net after 1000 spins: {total:.2f}\")\n",
    "    print(f\"Average net per spin: {avg:.4f}\")\n"
   ]
  },
  {
   "cell_type": "markdown",
   "id": "2b265b94",
   "metadata": {},
   "source": [
    "## 4e: Compute the average values for the bets you just simulated. What are the expected average payoffs?\n",
    "\n",
    "**^^ See above simulation results for expected average payoffs**\n",
    "\n",
    "P(win) = K/38\n",
    "P(lose) = 1 - P(win) = 1 - K/38    \n",
    "\n",
    "Payouts: \n",
    "- win: 36/K - 1\n",
    "- lose: -1\n",
    "\n",
    "E = (K/38) * (36/K) - (K/38) - 1 + (K/38)\n",
    "\n",
    "E = 36/38 - 1\n",
    "\n",
    "E = -2/38 = -0.05263 --> on average, a player loses 5.26 cents per $1 bet, regardless of the bet type"
   ]
  },
  {
   "cell_type": "markdown",
   "id": "6bc9caa6",
   "metadata": {},
   "source": [
    "### 5. CDF and PDF Basics\n",
    "\n",
    "- Verify the following functions are distribution functions and compute their density functions. Plot the distribution and density.\n",
    "\n",
    "1. $F(x) = \\begin{cases}\n",
    "0, & x \\le 0 \\\\\n",
    "\\sqrt{x}, & 0 \\le x \\le 1 \\\\\n",
    "1, & x \\ge 1 \n",
    "\\end{cases}\n",
    "$\n",
    "2. $F(x) = \\dfrac{1}{1+e^{-x}}$\n",
    "3. For $ a < b < c$,\n",
    "$\n",
    "F(x) = \\begin{cases}\n",
    "0, & x \\le 0 \\\\\n",
    "\\frac{(x-a)^2}{(b-a)(b-c)}, & a \\le x \\le c \\\\\n",
    "1 - \\frac{(b-x)^2}{(b-a)(b-c)}, & c < x < b \\\\\n",
    "1, & x \\ge b\n",
    "\\end{cases}\n",
    "$\n",
    "4. $ F(x) = \\begin{cases}\n",
    "0, & x <0 \\\\\n",
    "1 - e^{-x}, & x>0\n",
    "\\end{cases}\n",
    "$\n",
    "5. $ F(x) = \\begin{cases}\n",
    "0, & x \\le 0 \\\\\n",
    "x, & 0 < x < 1\\\\\n",
    "1, & x \\ge 1\n",
    "\\end{cases}\n",
    "$"
   ]
  },
  {
   "cell_type": "markdown",
   "id": "f64444d2",
   "metadata": {},
   "source": [
    "### 6. Some Common Distributions\n",
    "\n",
    "For the following distributions:\n",
    "- Determine the support\n",
    "- Compute the density from the distribution for the logistic and exponential distributions (take a derivative)\n",
    "- Plot the density and distribution for a variety of parameter values\n",
    "- Take a sample of 1000 draws $(x_1, x_2, ..., x_{1000})$ from the distribution, plot a KDE and ECDF, visually compare with the theoretical pdf/cdf\n",
    "- Find an example of this general type of PDF/CDF from the Metabric cancer data\n",
    "\n",
    "You can use https://docs.scipy.org/doc/scipy/reference/stats.html to generate values for the pdf/cdf and generate samples of random variates.\n",
    "\n",
    "\n",
    "- Logistic distribution (similar to normal): \n",
    "$$\n",
    "F(x; \\sigma) = \\dfrac{1}{1+e^{-x/\\sigma}} \n",
    "$$\n",
    "with $\\sigma >0$.\n",
    "- Exponential distribution (similar to log-normal):\n",
    "$$\n",
    "F_X(x) = \\begin{cases}\n",
    "0, & x<0 \\\\\n",
    "1 - e^{-\\lambda x}, & x \\ge 0,\n",
    "\\end{cases}\n",
    "$$\n",
    "with $\\lambda > 0$.\n",
    "- Negative Binomial (similar to Poisson): The probability mass function for positive integers is:\n",
    "$$\n",
    "f(k;r,p) = \\dfrac{(k+r-1)!}{k!(r-1)!}(1-p)^k p^r, \\quad \\text{ for $k=0,...n$}\n",
    "$$\n",
    "You can interpret this as follows: Flip a coin that comes up heads with probability $p$ until you get $r$ heads, and then stop. What is the probability of stopping at each $k=0,1,2,...$?\n",
    "- Categorical (similar to Bernoulli): The probability mass function over $k = 1, 2, ..., K$ categories is\n",
    "$$\n",
    "f(k;p_1,...,p_K) = p_1^{k=1}p_2^{k=2}...p_K^{k=K}\n",
    "$$\n",
    "where $0 \\le p_i \\le 1$ and $ \\sum_{k=1}^K p_k = 1$.\n"
   ]
  },
  {
   "cell_type": "markdown",
   "id": "5cc353b0",
   "metadata": {},
   "source": [
    "## 6a: Logistics distribution"
   ]
  },
  {
   "cell_type": "code",
   "execution_count": null,
   "id": "e369f969",
   "metadata": {
    "vscode": {
     "languageId": "r"
    }
   },
   "outputs": [],
   "source": [
    "import numpy as np\n",
    "import seaborn as sns\n",
    "from scipy.stats import logistic, expon\n",
    "\n",
    "# Logistic and Exponential: PDF and CDF plots for various parameter values\n",
    "\n",
    "import matplotlib.pyplot as plt\n",
    "\n",
    "x = np.linspace(-10, 10, 400)\n",
    "x_exp = np.linspace(0, 10, 400)\n",
    "\n",
    "# Logistic distribution: F(x; mu, sigma) = 1/(1+exp(-(x-mu)/sigma))\n",
    "# PDF: f(x; mu, sigma) = exp(-(x-mu)/sigma) / (sigma * (1+exp(-(x-mu)/sigma))**2)\n",
    "\n",
    "sigmas = [0.5, 1, 2]\n",
    "mus = [0, 2]\n",
    "\n",
    "plt.figure(figsize=(14, 6))\n",
    "\n",
    "# Logistic PDF\n",
    "plt.subplot(2, 2, 1)\n",
    "for sigma in sigmas:\n",
    "    for mu in mus:\n",
    "        pdf = logistic.pdf(x, loc=mu, scale=sigma)\n",
    "        plt.plot(x, pdf, label=f'μ={mu}, σ={sigma}')\n",
    "plt.title('Logistic PDF for Various μ, σ')\n",
    "plt.xlabel('x')\n",
    "plt.ylabel('Density')\n",
    "plt.legend()\n",
    "plt.grid(True)\n",
    "\n",
    "# Logistic CDF\n",
    "plt.subplot(2, 2, 2)\n",
    "for sigma in sigmas:\n",
    "    for mu in mus:\n",
    "        cdf = logistic.cdf(x, loc=mu, scale=sigma)\n",
    "        plt.plot(x, cdf, label=f'μ={mu}, σ={sigma}')\n",
    "plt.title('Logistic CDF for Various μ, σ')\n",
    "plt.xlabel('x')\n",
    "plt.ylabel('Cumulative Probability')\n",
    "plt.legend()\n",
    "plt.grid(True)\n",
    "\n",
    "# Exponential distribution: F(x; λ) = 1 - exp(-λx), x ≥ 0\n",
    "# PDF: f(x; λ) = λ * exp(-λx), x ≥ 0\n",
    "\n",
    "lambdas = [0.5, 1, 2]\n",
    "\n",
    "# Exponential PDF\n",
    "plt.subplot(2, 2, 3)\n",
    "for lam in lambdas:\n",
    "    pdf = expon.pdf(x_exp, scale=1/lam)\n",
    "    plt.plot(x_exp, pdf, label=f'λ={lam}')\n",
    "plt.title('Exponential PDF for Various λ')\n",
    "plt.xlabel('x')\n",
    "plt.ylabel('Density')\n",
    "plt.legend()\n",
    "plt.grid(True)\n",
    "\n",
    "# Exponential CDF\n",
    "plt.subplot(2, 2, 4)\n",
    "for lam in lambdas:\n",
    "    cdf = expon.cdf(x_exp, scale=1/lam)\n",
    "    plt.plot(x_exp, cdf, label=f'λ={lam}')\n",
    "plt.title('Exponential CDF for Various λ')\n",
    "plt.xlabel('x')\n",
    "plt.ylabel('Cumulative Probability')\n",
    "plt.legend()\n",
    "plt.grid(True)\n",
    "\n",
    "plt.tight_layout()\n",
    "plt.show()"
   ]
  },
  {
   "cell_type": "code",
   "execution_count": 1,
   "id": "2de459a1",
   "metadata": {},
   "outputs": [
    {
     "data": {
      "image/png": "[encoded data removed]",
      "text/plain": [
       "<Figure size 640x480 with 1 Axes>"
      ]
     },
     "metadata": {},
     "output_type": "display_data"
    }
   ],
   "source": [
    "\n",
    "'''\n",
    "- Determine the support\n",
    "- Compute the density from the distribution for the logistic and exponential distributions (take a derivative)\n",
    "- Plot the density and distribution for a variety of parameter values\n",
    "- Take a sample of 1000 draws $(x_1, x_2, ..., x_{1000})$ from the distribution, plot a KDE and ECDF, visually compare with the theoretical pdf/cdf\n",
    "- Find an example of this general type of PDF/CDF from the Metabric cancer data\n",
    "'''\n",
    "\n",
    "\n",
    "import pandas as pd \n",
    "import seaborn as sns\n",
    "import numpy as np\n",
    "import scipy as sp\n",
    "import matplotlib.pyplot as plt\n",
    "\n",
    "df = pd.read_csv('metabric.csv', low_memory= False)\n",
    "\n",
    "y = df['Overall Survival Status'] \n",
    "\n",
    "y = y.replace({'0:LIVING':'1.0', '1:DECEASED':'0.0'})\n",
    "y = pd.to_numeric(y,errors='coerce')\n",
    "\n",
    "sns.histplot(y,stat='proportion')\n",
    "plt.show()"
   ]
  },
  {
   "cell_type": "code",
   "execution_count": null,
   "id": "8a4c3d01",
   "metadata": {},
   "outputs": [],
   "source": [
    "mu_hat = np.log( y.mean()/(1-y.mean()))\n",
    "print(f'mu_hat is: {mu_hat}')\n",
    "\n",
    "pr_1 = 1 - 1/(1+np.exp(-(-mu_hat)))\n",
    "print(f'Probability of a 1 is: {pr_1}')\n",
    "print(f'Sample proportion of ones is: {y.mean()}')"
   ]
  },
  {
   "cell_type": "code",
   "execution_count": null,
   "id": "c6d661fc",
   "metadata": {},
   "outputs": [],
   "source": [
    "## Bootstrapping:\n",
    "y = y.dropna()\n",
    "\n",
    "def logit(z):\n",
    "    return np.log( z.mean()/(1-z.mean()))\n",
    "\n",
    "estimates = [logit(y.sample(frac=1.0,replace=True)) for s in range(5000)] # One-line bootstrap of mu_hat\n",
    "\n",
    "fig, axes = plt.subplots(1, 3, figsize=(16, 4))  # 1 row, 2 columns\n",
    "sns.histplot(x, stat='proportion',ax = axes[0]).set(title='KDE of Underlying Data')\n",
    "sns.kdeplot(estimates, ax = axes[1]).set(title='KDE of Computed Statistics')\n",
    "axes[1].axvline(x=logit(y), color='orange', linestyle='--')\n",
    "sns.ecdfplot(estimates, ax = axes[2]).set(title='ECDF of Computed Statistics')\n",
    "axes[2].axvline(x=logit(y), color='orange', linestyle='--')\n",
    "plt.show()"
   ]
  },
  {
   "cell_type": "markdown",
   "id": "b82a1aa6",
   "metadata": {},
   "source": [
    "## 6b: Exponential Distribution"
   ]
  },
  {
   "cell_type": "code",
   "execution_count": null,
   "id": "9d788e2a",
   "metadata": {},
   "outputs": [],
   "source": [
    "import pandas as pd \n",
    "import seaborn as sns\n",
    "import numpy as np\n",
    "import scipy as sp\n",
    "import matplotlib.pyplot as plt\n",
    "\n",
    "\n",
    "df = pd.read_csv('./data/metabric.csv', low_memory= False)\n",
    "\n",
    "x = df['Overall Survival (Months)'] \n",
    "sns.kdeplot(x)\n",
    "plt.show()"
   ]
  },
  {
   "cell_type": "code",
   "execution_count": null,
   "id": "f7fbb3ce",
   "metadata": {},
   "outputs": [],
   "source": [
    "lambda_hat = x.mean()\n",
    "print(f'Sample mean: {lambda_hat}')"
   ]
  },
  {
   "cell_type": "code",
   "execution_count": null,
   "id": "10abddef",
   "metadata": {},
   "outputs": [],
   "source": [
    "#fit\n",
    "grid = np.linspace(0,400,100)\n",
    "cdf = sp.stats.expon.cdf(grid,scale=lambda_hat)\n",
    "pdf = sp.stats.expon.pdf(grid,scale=lambda_hat)\n",
    "\n",
    "fig, axes = plt.subplots(1,2,figsize=(14,5))\n",
    "sns.lineplot(x=grid,y=pdf,ax=axes[0],label='fitted exponential')\n",
    "sns.kdeplot(x=x,ax=axes[0],label='kde')\n",
    "axes[0].set_title('Density')\n",
    "sns.lineplot(x=grid,y=cdf,ax=axes[1])\n",
    "sns.ecdfplot(x=x,ax=axes[1])\n",
    "axes[1].set_title('Distribution')\n",
    "plt.show()"
   ]
  },
  {
   "cell_type": "code",
   "execution_count": null,
   "id": "aea426e7",
   "metadata": {},
   "outputs": [],
   "source": [
    "## Predict probabilities:\n",
    "prediction_values = np.array( (50,100,150,300) )\n",
    "F_hat = sp.stats.expon.cdf(prediction_values,scale=lambda_hat)\n",
    "print(F_hat)"
   ]
  },
  {
   "cell_type": "code",
   "execution_count": null,
   "id": "261f5ceb",
   "metadata": {},
   "outputs": [],
   "source": [
    "## Simulate a sample:\n",
    "sample = sp.stats.expon.rvs(scale=lambda_hat,size=1000,random_state=100)\n",
    "sns.kdeplot(sample).set(title='KDE of a Random Sample')"
   ]
  },
  {
   "cell_type": "code",
   "execution_count": null,
   "id": "718432b5",
   "metadata": {},
   "outputs": [],
   "source": [
    "## Bootstrapping:\n",
    "x = x.dropna()\n",
    "estimates = [np.mean(x.sample(frac=1.0,replace=True)) for s in range(5000)] # One-line bootstrap of mu_hat\n",
    "\n",
    "fig, axes = plt.subplots(1, 3, figsize=(16, 4))  # 1 row, 2 columns\n",
    "sns.kdeplot(x, ax = axes[0]).set(title='KDE of Underlying Data')\n",
    "sns.kdeplot(estimates, ax = axes[1]).set(title='KDE of Computed Statistics')\n",
    "axes[1].axvline(x=np.mean(x), color='orange', linestyle='--')\n",
    "sns.ecdfplot(estimates, ax = axes[2]).set(title='ECDF of Computed Statistics')\n",
    "axes[2].axvline(x=np.mean(x), color='orange', linestyle='--')\n",
    "plt.show()"
   ]
  },
  {
   "cell_type": "markdown",
   "id": "9aaecc3a",
   "metadata": {},
   "source": [
    "## 6c: Negative Binomial"
   ]
  },
  {
   "cell_type": "code",
   "execution_count": null,
   "id": "3fbd7bb8",
   "metadata": {},
   "outputs": [],
   "source": []
  },
  {
   "cell_type": "markdown",
   "id": "473161d5",
   "metadata": {},
   "source": [
    "## 6d: Categorical"
   ]
  },
  {
   "cell_type": "code",
   "execution_count": null,
   "id": "e85cda06",
   "metadata": {},
   "outputs": [],
   "source": []
  }
 ],
 "metadata": {
  "kernelspec": {
   "display_name": "ds6001",
   "language": "python",
   "name": "python3"
  },
  "language_info": {
   "codemirror_mode": {
    "name": "ipython",
    "version": 3
   },
   "file_extension": ".py",
   "mimetype": "text/x-python",
   "name": "python",
   "nbconvert_exporter": "python",
   "pygments_lexer": "ipython3",
   "version": "3.13.5"
  }
 },
 "nbformat": 4,
 "nbformat_minor": 5
}
