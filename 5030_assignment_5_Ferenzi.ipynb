{
 "cells": [
  {
   "cell_type": "markdown",
   "id": "dd21efe9",
   "metadata": {},
   "source": [
    "# 5030 Assignment 5\n",
    "\n",
    "## Steve Ferenzi \n",
    "\n",
    "### Do all four questions."
   ]
  },
  {
   "cell_type": "markdown",
   "id": "1ee9b4e8",
   "metadata": {},
   "source": [
    "**1.** Let's review some basic matrix multiplication. When you have an $M \\times N$ matrix $A$ with $M$ rows and $N$ columns, \n",
    "$$\n",
    "A= \\left[ \\begin{array}{cccc} a_{11} & a_{12} & ... & a_{1N} \\\\\n",
    "a_{21} & a_{22} & ... & a_{2N} \\\\\n",
    "\\vdots & \\vdots & ... & \\vdots \\\\\n",
    "a_{M1} & a_{M2} & ... & a_{MN} \n",
    "\\end{array} \\right],\n",
    "$$\n",
    "and you right-multiply it by a vector\n",
    "$$\n",
    "x = \\left[ \\begin{array}{c} x_1 \\\\ x_2 \\\\ \\vdots \\\\ x_N \n",
    "\\end{array} \\right],\n",
    "$$\n",
    "you get\n",
    "$$\n",
    "Ax = \\left[ \\begin{array}{c} \\sum_{i=1}^N a_{1i} x_i \\\\ \\sum_{i=1}^N a_{2i} x_i \\\\ \\vdots \\\\ \\sum_{i=1}^N a_{Mi} x_i \n",
    "\\end{array} \\right].\n",
    "$$\n",
    "This is just \"matrix row times column vector\" element-by-element, stacking the results into a new vector.\n",
    "\n",
    "For this to make sense, $N$ must be the same for the matrix and the vector, but $M$ can be different from $N$. \n",
    "\n",
    "Let's play with some NumPy to see this. First we'll define a matrix $A$:"
   ]
  },
  {
   "cell_type": "code",
   "execution_count": 81,
   "id": "33df3579",
   "metadata": {},
   "outputs": [
    {
     "data": {
      "text/plain": [
       "array([[1, 2, 3],\n",
       "       [4, 5, 6],\n",
       "       [7, 8, 9]])"
      ]
     },
     "execution_count": 81,
     "metadata": {},
     "output_type": "execute_result"
    }
   ],
   "source": [
    "import numpy as np\n",
    "\n",
    "A = np.array([ [1,2,3],\n",
    "              [4,5,6],\n",
    "              [7,8,9]])\n",
    "A"
   ]
  },
  {
   "cell_type": "markdown",
   "id": "94b1b3ac",
   "metadata": {},
   "source": [
    "a. Multiply $A$ times each of the following vectors using the @ operator. Explain which part of the $A$ matrix gets selected and explain why, using the definition of matrix multiplication. "
   ]
  },
  {
   "cell_type": "code",
   "execution_count": null,
   "id": "5b6148d2",
   "metadata": {},
   "outputs": [
    {
     "name": "stdout",
     "output_type": "stream",
     "text": [
      "[1 4 7]\n",
      "[2 5 8]\n",
      "[3 6 9]\n"
     ]
    }
   ],
   "source": [
    "e_1 = np.array([1,0,0])\n",
    "e_2 = np.array([0,1,0])\n",
    "e_3 = np.array([0,0,1])\n",
    "\n",
    "print(A @ e_1)\n",
    "print(A @ e_2)\n",
    "print(A @ e_3)"
   ]
  },
  {
   "cell_type": "markdown",
   "id": "2820b006",
   "metadata": {},
   "source": [
    "\tBy definition, when you multiply a matrix A by a vector x, each component of x “weights” one column of A.\n",
    "\n",
    "\t\te_1 = [1, 0, 0]: takes 1×(first column) + 0×(others) --> first column only [1,4,7]\n",
    "\t\te_2 = [0, 1, 0]: takes 1×(second column) --> second column only [2, 5, 8]\n",
    "\t\te_3 = [0, 0, 1]: takes 1×(third column) --> third column only [3, 6, 9]\n"
   ]
  },
  {
   "cell_type": "markdown",
   "id": "72a4704e",
   "metadata": {},
   "source": [
    "b. Now multiply $A$ times $u = (1,1,1)$. Explain the logic of the result with the definition of matrix multiplication."
   ]
  },
  {
   "cell_type": "code",
   "execution_count": 83,
   "id": "5bf73f9b",
   "metadata": {},
   "outputs": [
    {
     "data": {
      "text/plain": [
       "array([ 6., 15., 24.])"
      ]
     },
     "execution_count": 83,
     "metadata": {},
     "output_type": "execute_result"
    }
   ],
   "source": [
    "u = np.ones(3)\n",
    "A @ u"
   ]
  },
  {
   "cell_type": "markdown",
   "id": "40309829",
   "metadata": {},
   "source": [
    "\tIn matrix multiplication each element of the resulting vector is the dot product of one row of A with the vector u.\n",
    "\n",
    "\t\tfirst entry is the sum of row 1: 1 + 2 + 3 = 6\n",
    "\n",
    "\t\tsecond entry is the sum of row 2: 4 + 5 + 6 = 15\n",
    "\n",
    "\t\tthird entry is the sum of row 3: 7 + 8 + 9 = 24"
   ]
  },
  {
   "cell_type": "markdown",
   "id": "dde75eab",
   "metadata": {},
   "source": [
    "c. Whenever a matrix has 1's on the diagonal and zeros everywhere else, we call it an **identity matrix**. What happens when you multiple $A$ times $x$ below? What happens when you multiple an identity matrix times any vector? Explain your result with the definition of matrix multiplication."
   ]
  },
  {
   "cell_type": "code",
   "execution_count": null,
   "id": "b0d349c4",
   "metadata": {},
   "outputs": [
    {
     "data": {
      "text/plain": [
       "array([-2,  4, 11])"
      ]
     },
     "execution_count": 86,
     "metadata": {},
     "output_type": "execute_result"
    }
   ],
   "source": [
    "A = np.array([[1,0,0],\n",
    "              [0,1,0],\n",
    "              [0,0,1]])\n",
    "\n",
    "x = np.array([-2,4,11])\n",
    "\n",
    "A @ x"
   ]
  },
  {
   "cell_type": "markdown",
   "id": "1d5b02a8",
   "metadata": {},
   "source": [
    "    The result is exactly the same as the original vector. Multiplying any vector by the identity matrix returns the same vector, because each component of the result is formed by taking one row of the identity (isolates a single coordinate) and applying it to the vector."
   ]
  },
  {
   "cell_type": "markdown",
   "id": "57141925",
   "metadata": {},
   "source": [
    "d. What if every row and column sum to 1, but the 1's are no longer on the diagonal? Multiple $A$ times $X$ below and explain the result. Create another matrix whose rows and columns sum to 1, but is not an identity matrix, and show how it permutes the values of $x$. "
   ]
  },
  {
   "cell_type": "code",
   "execution_count": null,
   "id": "83a9ed11",
   "metadata": {},
   "outputs": [
    {
     "data": {
      "text/plain": [
       "array([11, -2,  4])"
      ]
     },
     "execution_count": 87,
     "metadata": {},
     "output_type": "execute_result"
    }
   ],
   "source": [
    "A = np.array([[0,0,1],\n",
    "              [1,0,0],\n",
    "              [0,1,0]])\n",
    "\n",
    "x = np.array([-2,4,11])\n",
    "\n",
    "A @ x"
   ]
  },
  {
   "cell_type": "markdown",
   "id": "ccff4a77",
   "metadata": {},
   "source": [
    "        Result of the dot product of one row of A with x is a rearrangement of the same values:\n",
    "\n",
    "                Row 1 = [0, 0, 1] --> picks the 3rd element of x: x_3 = 11\n",
    "                Row 2 = [1, 0, 0] --> picks the 1st element of x: x_1 = -2\n",
    "                Row 3 = [0, 1, 0] --> picks the 2nd element of x: x_2 = 4\n",
    "\n",
    "        So for A not having 1's on the diagonal, it doesn’t change the values, it just rearranges them. When a matrix has exactly one 1 in each row and column but not necessarily on the diagonal, it’s called a 'permutation matrix.'"
   ]
  },
  {
   "cell_type": "code",
   "execution_count": 88,
   "id": "690d248e",
   "metadata": {},
   "outputs": [
    {
     "data": {
      "text/plain": [
       "array([ 4, 11, -2])"
      ]
     },
     "execution_count": 88,
     "metadata": {},
     "output_type": "execute_result"
    }
   ],
   "source": [
    "A = np.array([[0,1,0],\n",
    "              [0,0,1],\n",
    "              [1,0,0]])\n",
    "\n",
    "x = np.array([-2,4,11])\n",
    "\n",
    "A @ x"
   ]
  },
  {
   "cell_type": "markdown",
   "id": "611c26c3",
   "metadata": {},
   "source": [
    "e. The next matrix $A$ could be a Markov transition matrix: Its columns sum to 1, and each entry $a_{ij}$ can be interpreted as the proportion of observations who moved from state $j$ to state $i$. Multiply $A$ by each of the vectors $e_1$, $e_2$, and $e_3$, and explain your results."
   ]
  },
  {
   "cell_type": "code",
   "execution_count": 89,
   "id": "aff4fb97",
   "metadata": {},
   "outputs": [
    {
     "name": "stdout",
     "output_type": "stream",
     "text": [
      "[[0.50052958 0.24049286 0.18358131]\n",
      " [0.02574731 0.39251588 0.37907577]\n",
      " [0.47372311 0.36699127 0.43734292]]\n"
     ]
    }
   ],
   "source": [
    "rng = np.random.default_rng(100)\n",
    "A = rng.random((3,3)) # Generate a random 3X3 matrix\n",
    "sums = np.sum(A,axis=0) # Column sums\n",
    "A = A/sums # Normalize the columns so they sum to 1\n",
    "print(A)"
   ]
  },
  {
   "cell_type": "code",
   "execution_count": 94,
   "id": "5db1ba55",
   "metadata": {},
   "outputs": [
    {
     "name": "stdout",
     "output_type": "stream",
     "text": [
      "[0.50052958 0.02574731 0.47372311]\n",
      "[0.24049286 0.39251588 0.36699127]\n",
      "[0.18358131 0.37907577 0.43734292]\n"
     ]
    }
   ],
   "source": [
    "print(A @ e_1)           \n",
    "print(A @ e_2)           \n",
    "print(A @ e_3)"
   ]
  },
  {
   "cell_type": "markdown",
   "id": "0c2d4326",
   "metadata": {},
   "source": [
    "    A @ e_1 --> selects first column of A\n",
    "    A @ e_2 --> second column\n",
    "    A @ e_3 --> third column\n",
    "\n",
    "    Vector e_1 [1, 0, 1] --> means we are in 100% in state 1, and the first column result (A @ e_1) is the probability distribution of where the system goes after one step starting at state 1\n",
    "\n",
    "    Similarly for the other vectors, the results are the transition distributions from state 2 and state 3."
   ]
  },
  {
   "cell_type": "markdown",
   "id": "0647bfa7",
   "metadata": {},
   "source": [
    "f. For each of the vectors $e_1, e_2, e_3$, multiple $A$ times that vector 5 times. What answer do you get for each starting vector? Describe the behavior you observe."
   ]
  },
  {
   "cell_type": "code",
   "execution_count": 95,
   "id": "de9d6017",
   "metadata": {},
   "outputs": [
    {
     "name": "stdout",
     "output_type": "stream",
     "text": [
      "A^5 * e1 = [0.29266551 0.27862515 0.42870935]\n",
      "A^5 * e2 = [0.29197422 0.27979983 0.42822595]\n",
      "A^5 * e3 = [0.29171646 0.2802254  0.42805814]\n"
     ]
    }
   ],
   "source": [
    "def iterate(A, x, n=5):\n",
    "    result = x\n",
    "    for i in range(n):\n",
    "        result = A @ result\n",
    "    return result\n",
    "\n",
    "r1 = iterate(A, e_1)\n",
    "r2 = iterate(A, e_2)\n",
    "r3 = iterate(A, e_3)\n",
    "\n",
    "print(\"A^5 * e1 =\", r1)\n",
    "print(\"A^5 * e2 =\", r2)\n",
    "print(\"A^5 * e3 =\", r3)"
   ]
  },
  {
   "cell_type": "markdown",
   "id": "d9258cee",
   "metadata": {},
   "source": [
    "    The three vectors are nearly close componentwise, with differences only on the order of 10^-3 or smaller.  Repeated multiplication washes out the initial state, and all starting states appear to be converging to the same stationary probability vector. \n",
    "\n",
    "    [running more iterations below to see where they converge to]"
   ]
  },
  {
   "cell_type": "code",
   "execution_count": 103,
   "id": "6591837a",
   "metadata": {},
   "outputs": [
    {
     "name": "stdout",
     "output_type": "stream",
     "text": [
      "A^5 * e1 = [0.29206573 0.27963902 0.42829526]\n",
      "A^5 * e2 = [0.29206573 0.27963902 0.42829526]\n",
      "A^5 * e3 = [0.29206573 0.27963902 0.42829526]\n"
     ]
    }
   ],
   "source": [
    "def iterate2(A, x, n=25):\n",
    "    result = x\n",
    "    for i in range(n):\n",
    "        result = A @ result\n",
    "    return result\n",
    "\n",
    "r1 = iterate2(A, e_1)\n",
    "r2 = iterate2(A, e_2)\n",
    "r3 = iterate2(A, e_3)\n",
    "\n",
    "print(\"A^5 * e1 =\", r1)\n",
    "print(\"A^5 * e2 =\", r2)\n",
    "print(\"A^5 * e3 =\", r3)"
   ]
  },
  {
   "cell_type": "markdown",
   "id": "fa2c9a93",
   "metadata": {},
   "source": [
    "## *2.* Let's consider a simple Markov transition matrix over two states:\n",
    "$$\n",
    "T = \\left[ \\begin{array}{cc} p_{1\\leftarrow 1} &  p_{1\\leftarrow 2} \\\\\n",
    "p_{2 \\leftarrow 1} & p_{2 \\leftarrow 2} \\end{array}\\right] \n",
    "$$\n",
    "The arrows help visualize the transition a bit: This is the same index notation as usual, $p_{ij}$, but writing it $p_{i \\leftarrow j}$ emphasizes that it's the proportion of times that state $j$ transitions to state $i$. Below, $T$ is given by\n",
    "$$\n",
    "T = \\left[ \\begin{array}{cc} .25 & .5 \\\\\n",
    ".75 & .5 \\end{array}\\right].\n",
    "$$\n",
    "\n",
    "- Start in state 1, at the initial condition $[1,0]$. Multiply that vector by $T$. Write out the result in terms of the formula and compute the result in a code chunk below. What is this object you're looking at, in terms of proportions and transitions?\n",
    "- Multiple by $T$ again. What do you get? This isn't a column of $T$. Explain in words what it is. (Hint: A forecast of what in what period?)\n",
    "- Keep multiplying the current vector of outcomes by $T$. When does it start to settle down without changing further?\n",
    "- Do the above analysis again, starting from the initial condition $[0,1]$. Do you get a different result?\n",
    "- The take-away is that, in the long run, these chains settle down into the long-run proportions, and the sensitivity on initial conditions vanishes. \n"
   ]
  },
  {
   "cell_type": "code",
   "execution_count": 105,
   "id": "4b6a775f",
   "metadata": {},
   "outputs": [
    {
     "data": {
      "text/plain": [
       "array([[0.25, 0.5 ],\n",
       "       [0.75, 0.5 ]])"
      ]
     },
     "execution_count": 105,
     "metadata": {},
     "output_type": "execute_result"
    }
   ],
   "source": [
    "import numpy as np\n",
    "T = np.array([[ 1/4, 1/2],\n",
    "                 [ 3/4, 1/2 ]])\n",
    "T"
   ]
  },
  {
   "cell_type": "code",
   "execution_count": 106,
   "id": "09ac881e",
   "metadata": {},
   "outputs": [
    {
     "name": "stdout",
     "output_type": "stream",
     "text": [
      "[0.25 0.75]\n"
     ]
    }
   ],
   "source": [
    "init_condition = np.array([1,0])  # start in state 0\n",
    "\n",
    "p_1 = T @ init_condition\n",
    "print(p_1)"
   ]
  },
  {
   "cell_type": "markdown",
   "id": "6289e7ff",
   "metadata": {},
   "source": [
    "    Initial condition [1, 0] means 100% of the probability is in state 1. After one transition, there’s a 25% chance of being in state 1 and a 75% chance of being in state 2."
   ]
  },
  {
   "cell_type": "code",
   "execution_count": 22,
   "id": "bc7b2635",
   "metadata": {},
   "outputs": [
    {
     "name": "stdout",
     "output_type": "stream",
     "text": [
      "[0.4375 0.5625]\n"
     ]
    }
   ],
   "source": [
    "p_2 = T @ p_1\n",
    "print(p_2)"
   ]
  },
  {
   "cell_type": "markdown",
   "id": "a05b392f",
   "metadata": {},
   "source": [
    "    After 2 transitions, there’s ~43.8% probability of being in state 1 and ~56.2% in state 2."
   ]
  },
  {
   "cell_type": "code",
   "execution_count": 119,
   "id": "c13460d1",
   "metadata": {},
   "outputs": [
    {
     "name": "stdout",
     "output_type": "stream",
     "text": [
      "Step 0: [1. 0.]\n",
      "Step 1: [0.25 0.75]\n",
      "Step 2: [0.4375 0.5625]\n",
      "Step 3: [0.390625 0.609375]\n",
      "Step 4: [0.40234375 0.59765625]\n",
      "Step 5: [0.39941406 0.60058594]\n",
      "Step 6: [0.40014648 0.59985352]\n",
      "Step 7: [0.39996338 0.60003662]\n",
      "Step 8: [0.40000916 0.59999084]\n",
      "Step 9: [0.39999771 0.60000229]\n"
     ]
    }
   ],
   "source": [
    "T = np.array([[0.25, 0.5],\n",
    "              [0.75, 0.5]])\n",
    "\n",
    "x = np.array([1., 0.])  # start in state 0\n",
    "\n",
    "for i in range(10):\n",
    "    print(f\"Step {i}: {x}\")\n",
    "    x = T @ x"
   ]
  },
  {
   "cell_type": "markdown",
   "id": "6b2750ab",
   "metadata": {},
   "source": [
    "    The chain appears to be converging toward 40% probability of being in state 1 and 60% in state 2."
   ]
  },
  {
   "cell_type": "code",
   "execution_count": null,
   "id": "95bdfd7b",
   "metadata": {},
   "outputs": [
    {
     "name": "stdout",
     "output_type": "stream",
     "text": [
      "Step 0: [0. 1.]\n",
      "Step 1: [0.5 0.5]\n",
      "Step 2: [0.375 0.625]\n",
      "Step 3: [0.40625 0.59375]\n",
      "Step 4: [0.3984375 0.6015625]\n",
      "Step 5: [0.40039062 0.59960938]\n",
      "Step 6: [0.39990234 0.60009766]\n",
      "Step 7: [0.40002441 0.59997559]\n",
      "Step 8: [0.3999939 0.6000061]\n",
      "Step 9: [0.40000153 0.59999847]\n"
     ]
    }
   ],
   "source": [
    "T = np.array([[0.25, 0.5],\n",
    "              [0.75, 0.5]])\n",
    "\n",
    "x = np.array([0., 1.])  # start in new state\n",
    "\n",
    "for i in range(10):\n",
    "    print(f\"Step {i}: {x}\")\n",
    "    x = T @ x"
   ]
  },
  {
   "cell_type": "markdown",
   "id": "61f44b13",
   "metadata": {},
   "source": [
    "    Beginning with new initial condition [0, 1] (100% of the probability is in state 2), long-term convergence appears to be the same steady-state distribution [0.4, 0.6] as initial condition [1, 0]."
   ]
  },
  {
   "cell_type": "markdown",
   "id": "921592e9",
   "metadata": {},
   "source": [
    "## 3. Weather data\n",
    "\n",
    "- Load the `cville_weather.csv` data. This includes data from Jan 4, 2024 to Feb 2, 2025. Are there any missing data issues?\n",
    "- Based on the precipitation variable, `PRCP`, make a new variable called `rain` that takes the value 1 if `PRCP`>0 and 0 otherwise.\n",
    "- Build a two-state Markov chain over the states 0 and 1 for the `rain` variable. \n",
    "- For your chain from c, how likely is it to rain if it was rainy yesterday? How likely is it to rain if it was clear yesterday?\n",
    "- Starting from a clear day, forecast the distribution. How quickly does it converge to a fixed result? What if you start from a rainy day?\n",
    "- Conditional on being rainy, plot a KDE of the `PRCP` variable.\n",
    "- Describe one way of making your model better for forecasting and simulation the weather.\n",
    "\n",
    "Congratulations, you now are a non-parametric meteorologist!"
   ]
  },
  {
   "cell_type": "code",
   "execution_count": 125,
   "id": "eb91fb4d",
   "metadata": {},
   "outputs": [
    {
     "data": {
      "text/html": [
       "<div>\n",
       "<style scoped>\n",
       "    .dataframe tbody tr th:only-of-type {\n",
       "        vertical-align: middle;\n",
       "    }\n",
       "\n",
       "    .dataframe tbody tr th {\n",
       "        vertical-align: top;\n",
       "    }\n",
       "\n",
       "    .dataframe thead th {\n",
       "        text-align: right;\n",
       "    }\n",
       "</style>\n",
       "<table border=\"1\" class=\"dataframe\">\n",
       "  <thead>\n",
       "    <tr style=\"text-align: right;\">\n",
       "      <th></th>\n",
       "      <th>STATION</th>\n",
       "      <th>NAME</th>\n",
       "      <th>DATE</th>\n",
       "      <th>DAPR</th>\n",
       "      <th>DAPR_ATTRIBUTES</th>\n",
       "      <th>MDPR</th>\n",
       "      <th>MDPR_ATTRIBUTES</th>\n",
       "      <th>PRCP</th>\n",
       "      <th>PRCP_ATTRIBUTES</th>\n",
       "      <th>SNOW</th>\n",
       "      <th>SNOW_ATTRIBUTES</th>\n",
       "      <th>SNWD</th>\n",
       "      <th>SNWD_ATTRIBUTES</th>\n",
       "    </tr>\n",
       "  </thead>\n",
       "  <tbody>\n",
       "    <tr>\n",
       "      <th>0</th>\n",
       "      <td>US1VACRC002</td>\n",
       "      <td>CHARLOTTESVILLE 0.5 NNE, VA US</td>\n",
       "      <td>2024-01-04</td>\n",
       "      <td>NaN</td>\n",
       "      <td>NaN</td>\n",
       "      <td>NaN</td>\n",
       "      <td>NaN</td>\n",
       "      <td>0.03</td>\n",
       "      <td>,,N</td>\n",
       "      <td>NaN</td>\n",
       "      <td>NaN</td>\n",
       "      <td>NaN</td>\n",
       "      <td>NaN</td>\n",
       "    </tr>\n",
       "    <tr>\n",
       "      <th>1</th>\n",
       "      <td>US1VACRC002</td>\n",
       "      <td>CHARLOTTESVILLE 0.5 NNE, VA US</td>\n",
       "      <td>2024-01-07</td>\n",
       "      <td>NaN</td>\n",
       "      <td>NaN</td>\n",
       "      <td>NaN</td>\n",
       "      <td>NaN</td>\n",
       "      <td>1.08</td>\n",
       "      <td>,,N</td>\n",
       "      <td>NaN</td>\n",
       "      <td>NaN</td>\n",
       "      <td>NaN</td>\n",
       "      <td>NaN</td>\n",
       "    </tr>\n",
       "    <tr>\n",
       "      <th>2</th>\n",
       "      <td>US1VACRC002</td>\n",
       "      <td>CHARLOTTESVILLE 0.5 NNE, VA US</td>\n",
       "      <td>2024-01-09</td>\n",
       "      <td>NaN</td>\n",
       "      <td>NaN</td>\n",
       "      <td>NaN</td>\n",
       "      <td>NaN</td>\n",
       "      <td>0.24</td>\n",
       "      <td>,,N</td>\n",
       "      <td>NaN</td>\n",
       "      <td>NaN</td>\n",
       "      <td>NaN</td>\n",
       "      <td>NaN</td>\n",
       "    </tr>\n",
       "    <tr>\n",
       "      <th>3</th>\n",
       "      <td>US1VACRC002</td>\n",
       "      <td>CHARLOTTESVILLE 0.5 NNE, VA US</td>\n",
       "      <td>2024-01-10</td>\n",
       "      <td>NaN</td>\n",
       "      <td>NaN</td>\n",
       "      <td>NaN</td>\n",
       "      <td>NaN</td>\n",
       "      <td>3.00</td>\n",
       "      <td>,,N</td>\n",
       "      <td>NaN</td>\n",
       "      <td>NaN</td>\n",
       "      <td>NaN</td>\n",
       "      <td>NaN</td>\n",
       "    </tr>\n",
       "    <tr>\n",
       "      <th>4</th>\n",
       "      <td>US1VACRC002</td>\n",
       "      <td>CHARLOTTESVILLE 0.5 NNE, VA US</td>\n",
       "      <td>2024-01-24</td>\n",
       "      <td>NaN</td>\n",
       "      <td>NaN</td>\n",
       "      <td>NaN</td>\n",
       "      <td>NaN</td>\n",
       "      <td>0.00</td>\n",
       "      <td>,,N</td>\n",
       "      <td>0.0</td>\n",
       "      <td>,,N</td>\n",
       "      <td>NaN</td>\n",
       "      <td>NaN</td>\n",
       "    </tr>\n",
       "    <tr>\n",
       "      <th>5</th>\n",
       "      <td>US1VACRC002</td>\n",
       "      <td>CHARLOTTESVILLE 0.5 NNE, VA US</td>\n",
       "      <td>2024-01-25</td>\n",
       "      <td>NaN</td>\n",
       "      <td>NaN</td>\n",
       "      <td>NaN</td>\n",
       "      <td>NaN</td>\n",
       "      <td>0.18</td>\n",
       "      <td>,,N</td>\n",
       "      <td>NaN</td>\n",
       "      <td>NaN</td>\n",
       "      <td>NaN</td>\n",
       "      <td>NaN</td>\n",
       "    </tr>\n",
       "    <tr>\n",
       "      <th>6</th>\n",
       "      <td>US1VACRC002</td>\n",
       "      <td>CHARLOTTESVILLE 0.5 NNE, VA US</td>\n",
       "      <td>2024-01-26</td>\n",
       "      <td>NaN</td>\n",
       "      <td>NaN</td>\n",
       "      <td>NaN</td>\n",
       "      <td>NaN</td>\n",
       "      <td>0.08</td>\n",
       "      <td>,,N</td>\n",
       "      <td>NaN</td>\n",
       "      <td>NaN</td>\n",
       "      <td>NaN</td>\n",
       "      <td>NaN</td>\n",
       "    </tr>\n",
       "    <tr>\n",
       "      <th>7</th>\n",
       "      <td>US1VACRC002</td>\n",
       "      <td>CHARLOTTESVILLE 0.5 NNE, VA US</td>\n",
       "      <td>2024-01-27</td>\n",
       "      <td>NaN</td>\n",
       "      <td>NaN</td>\n",
       "      <td>NaN</td>\n",
       "      <td>NaN</td>\n",
       "      <td>0.00</td>\n",
       "      <td>,,N</td>\n",
       "      <td>0.0</td>\n",
       "      <td>,,N</td>\n",
       "      <td>NaN</td>\n",
       "      <td>NaN</td>\n",
       "    </tr>\n",
       "    <tr>\n",
       "      <th>8</th>\n",
       "      <td>US1VACRC002</td>\n",
       "      <td>CHARLOTTESVILLE 0.5 NNE, VA US</td>\n",
       "      <td>2024-01-28</td>\n",
       "      <td>NaN</td>\n",
       "      <td>NaN</td>\n",
       "      <td>NaN</td>\n",
       "      <td>NaN</td>\n",
       "      <td>1.29</td>\n",
       "      <td>,,N</td>\n",
       "      <td>NaN</td>\n",
       "      <td>NaN</td>\n",
       "      <td>NaN</td>\n",
       "      <td>NaN</td>\n",
       "    </tr>\n",
       "    <tr>\n",
       "      <th>9</th>\n",
       "      <td>US1VACRC002</td>\n",
       "      <td>CHARLOTTESVILLE 0.5 NNE, VA US</td>\n",
       "      <td>2024-01-29</td>\n",
       "      <td>NaN</td>\n",
       "      <td>NaN</td>\n",
       "      <td>NaN</td>\n",
       "      <td>NaN</td>\n",
       "      <td>0.19</td>\n",
       "      <td>,,N</td>\n",
       "      <td>NaN</td>\n",
       "      <td>NaN</td>\n",
       "      <td>NaN</td>\n",
       "      <td>NaN</td>\n",
       "    </tr>\n",
       "  </tbody>\n",
       "</table>\n",
       "</div>"
      ],
      "text/plain": [
       "       STATION                            NAME        DATE  DAPR  \\\n",
       "0  US1VACRC002  CHARLOTTESVILLE 0.5 NNE, VA US  2024-01-04   NaN   \n",
       "1  US1VACRC002  CHARLOTTESVILLE 0.5 NNE, VA US  2024-01-07   NaN   \n",
       "2  US1VACRC002  CHARLOTTESVILLE 0.5 NNE, VA US  2024-01-09   NaN   \n",
       "3  US1VACRC002  CHARLOTTESVILLE 0.5 NNE, VA US  2024-01-10   NaN   \n",
       "4  US1VACRC002  CHARLOTTESVILLE 0.5 NNE, VA US  2024-01-24   NaN   \n",
       "5  US1VACRC002  CHARLOTTESVILLE 0.5 NNE, VA US  2024-01-25   NaN   \n",
       "6  US1VACRC002  CHARLOTTESVILLE 0.5 NNE, VA US  2024-01-26   NaN   \n",
       "7  US1VACRC002  CHARLOTTESVILLE 0.5 NNE, VA US  2024-01-27   NaN   \n",
       "8  US1VACRC002  CHARLOTTESVILLE 0.5 NNE, VA US  2024-01-28   NaN   \n",
       "9  US1VACRC002  CHARLOTTESVILLE 0.5 NNE, VA US  2024-01-29   NaN   \n",
       "\n",
       "  DAPR_ATTRIBUTES  MDPR MDPR_ATTRIBUTES  PRCP PRCP_ATTRIBUTES  SNOW  \\\n",
       "0             NaN   NaN             NaN  0.03             ,,N   NaN   \n",
       "1             NaN   NaN             NaN  1.08             ,,N   NaN   \n",
       "2             NaN   NaN             NaN  0.24             ,,N   NaN   \n",
       "3             NaN   NaN             NaN  3.00             ,,N   NaN   \n",
       "4             NaN   NaN             NaN  0.00             ,,N   0.0   \n",
       "5             NaN   NaN             NaN  0.18             ,,N   NaN   \n",
       "6             NaN   NaN             NaN  0.08             ,,N   NaN   \n",
       "7             NaN   NaN             NaN  0.00             ,,N   0.0   \n",
       "8             NaN   NaN             NaN  1.29             ,,N   NaN   \n",
       "9             NaN   NaN             NaN  0.19             ,,N   NaN   \n",
       "\n",
       "  SNOW_ATTRIBUTES  SNWD SNWD_ATTRIBUTES  \n",
       "0             NaN   NaN             NaN  \n",
       "1             NaN   NaN             NaN  \n",
       "2             NaN   NaN             NaN  \n",
       "3             NaN   NaN             NaN  \n",
       "4             ,,N   NaN             NaN  \n",
       "5             NaN   NaN             NaN  \n",
       "6             NaN   NaN             NaN  \n",
       "7             ,,N   NaN             NaN  \n",
       "8             NaN   NaN             NaN  \n",
       "9             NaN   NaN             NaN  "
      ]
     },
     "execution_count": 125,
     "metadata": {},
     "output_type": "execute_result"
    }
   ],
   "source": [
    "weather = pd.read_csv('cville_weather.csv')\n",
    "weather.head(10)"
   ]
  },
  {
   "cell_type": "markdown",
   "id": "b0568c74",
   "metadata": {},
   "source": [
    "    There are missing data across almost every variable, but this is not an immediate issue because we only care about precipitation (PRCP)."
   ]
  },
  {
   "cell_type": "code",
   "execution_count": 166,
   "id": "312b40d0",
   "metadata": {},
   "outputs": [
    {
     "data": {
      "text/html": [
       "<div>\n",
       "<style scoped>\n",
       "    .dataframe tbody tr th:only-of-type {\n",
       "        vertical-align: middle;\n",
       "    }\n",
       "\n",
       "    .dataframe tbody tr th {\n",
       "        vertical-align: top;\n",
       "    }\n",
       "\n",
       "    .dataframe thead th {\n",
       "        text-align: right;\n",
       "    }\n",
       "</style>\n",
       "<table border=\"1\" class=\"dataframe\">\n",
       "  <thead>\n",
       "    <tr style=\"text-align: right;\">\n",
       "      <th></th>\n",
       "      <th>DATE</th>\n",
       "      <th>PRCP</th>\n",
       "      <th>rain</th>\n",
       "    </tr>\n",
       "  </thead>\n",
       "  <tbody>\n",
       "    <tr>\n",
       "      <th>0</th>\n",
       "      <td>2024-01-04</td>\n",
       "      <td>0.03</td>\n",
       "      <td>1</td>\n",
       "    </tr>\n",
       "    <tr>\n",
       "      <th>1</th>\n",
       "      <td>2024-01-07</td>\n",
       "      <td>1.08</td>\n",
       "      <td>1</td>\n",
       "    </tr>\n",
       "    <tr>\n",
       "      <th>2</th>\n",
       "      <td>2024-01-09</td>\n",
       "      <td>0.24</td>\n",
       "      <td>1</td>\n",
       "    </tr>\n",
       "    <tr>\n",
       "      <th>3</th>\n",
       "      <td>2024-01-10</td>\n",
       "      <td>3.00</td>\n",
       "      <td>1</td>\n",
       "    </tr>\n",
       "    <tr>\n",
       "      <th>4</th>\n",
       "      <td>2024-01-24</td>\n",
       "      <td>0.00</td>\n",
       "      <td>0</td>\n",
       "    </tr>\n",
       "  </tbody>\n",
       "</table>\n",
       "</div>"
      ],
      "text/plain": [
       "         DATE  PRCP  rain\n",
       "0  2024-01-04  0.03     1\n",
       "1  2024-01-07  1.08     1\n",
       "2  2024-01-09  0.24     1\n",
       "3  2024-01-10  3.00     1\n",
       "4  2024-01-24  0.00     0"
      ]
     },
     "execution_count": 166,
     "metadata": {},
     "output_type": "execute_result"
    }
   ],
   "source": [
    "weather['rain'] = (weather['PRCP'] > 0).astype(int)\n",
    "weather[['DATE', 'PRCP', 'rain']].head()"
   ]
  },
  {
   "cell_type": "code",
   "execution_count": 175,
   "id": "c323fa2e",
   "metadata": {},
   "outputs": [
    {
     "name": "stdout",
     "output_type": "stream",
     "text": [
      "Counts:\n",
      " next    0    1\n",
      "curr          \n",
      "0     169   62\n",
      "1      63  116\n",
      "\n",
      "T (column-stochastic):\n",
      " next         0         1\n",
      "curr                    \n",
      "0     0.728448  0.348315\n",
      "1     0.271552  0.651685\n"
     ]
    }
   ],
   "source": [
    "## need to build 2×2 transition matrix from observed rain sequence before applying to an initial condition\n",
    "\n",
    "rain = weather['rain'].astype(int)\n",
    "\n",
    "curr = rain.values[:-1]   \n",
    "nxt  = rain.values[1:]    \n",
    "\n",
    "df = pd.DataFrame({'curr': curr, 'next': nxt})\n",
    "\n",
    "counts = pd.crosstab(df['curr'], df['next']).reindex(index=[0,1], columns=[0,1], fill_value=0)\n",
    "print(\"Counts:\\n\", counts)\n",
    "\n",
    "# column-stochastic transition matrix\n",
    "T = counts / counts.sum(axis=0)\n",
    "print(\"\\nT (column-stochastic):\\n\", T)"
   ]
  },
  {
   "cell_type": "markdown",
   "id": "29b405a9",
   "metadata": {},
   "source": [
    "    If yesterday was rainy, there’s about a 65 % chance it rains again today (going from 1 --> 1)\n",
    "\n",
    "    If yesterday was clear, there’s about a 27 % chance it rains today (going from 0 --> 1)"
   ]
  },
  {
   "cell_type": "code",
   "execution_count": null,
   "id": "c493bf19",
   "metadata": {},
   "outputs": [
    {
     "name": "stdout",
     "output_type": "stream",
     "text": [
      "Step 0: [1. 0.]\n",
      "Step 1: curr\n",
      "0    0.728448\n",
      "1    0.271552\n",
      "dtype: float64\n",
      "Step 2: curr\n",
      "0    0.625222\n",
      "1    0.374778\n",
      "dtype: float64\n",
      "Step 3: curr\n",
      "0    0.585983\n",
      "1    0.414017\n",
      "dtype: float64\n",
      "Step 4: curr\n",
      "0    0.571066\n",
      "1    0.428934\n",
      "dtype: float64\n",
      "Step 5: curr\n",
      "0    0.565396\n",
      "1    0.434604\n",
      "dtype: float64\n",
      "Step 6: curr\n",
      "0    0.563241\n",
      "1    0.436759\n",
      "dtype: float64\n",
      "Step 7: curr\n",
      "0    0.562421\n",
      "1    0.437579\n",
      "dtype: float64\n",
      "Step 8: curr\n",
      "0    0.56211\n",
      "1    0.43789\n",
      "dtype: float64\n",
      "Step 9: curr\n",
      "0    0.561992\n",
      "1    0.438008\n",
      "dtype: float64\n"
     ]
    }
   ],
   "source": [
    "# Starting from a clear day\n",
    "\n",
    "x = np.array([1.0, 0.0])   \n",
    "for i in range(10):\n",
    "    print(f\"Step {i}: {x}\")\n",
    "    x = T @ x"
   ]
  },
  {
   "cell_type": "code",
   "execution_count": 198,
   "id": "1e7e7f28",
   "metadata": {},
   "outputs": [
    {
     "name": "stdout",
     "output_type": "stream",
     "text": [
      "Step 0: [0. 1.]\n",
      "Step 1: curr\n",
      "0    0.348315\n",
      "1    0.651685\n",
      "dtype: float64\n",
      "Step 2: curr\n",
      "0    0.480721\n",
      "1    0.519279\n",
      "dtype: float64\n",
      "Step 3: curr\n",
      "0    0.531053\n",
      "1    0.468947\n",
      "dtype: float64\n",
      "Step 4: curr\n",
      "0    0.550186\n",
      "1    0.449814\n",
      "dtype: float64\n",
      "Step 5: curr\n",
      "0    0.557459\n",
      "1    0.442541\n",
      "dtype: float64\n",
      "Step 6: curr\n",
      "0    0.560223\n",
      "1    0.439777\n",
      "dtype: float64\n",
      "Step 7: curr\n",
      "0    0.561274\n",
      "1    0.438726\n",
      "dtype: float64\n",
      "Step 8: curr\n",
      "0    0.561674\n",
      "1    0.438326\n",
      "dtype: float64\n",
      "Step 9: curr\n",
      "0    0.561826\n",
      "1    0.438174\n",
      "dtype: float64\n"
     ]
    }
   ],
   "source": [
    "# Starting from a rainy day\n",
    "\n",
    "x = np.array([0.0, 1.0])   \n",
    "for i in range(10):\n",
    "    print(f\"Step {i}: {x}\")\n",
    "    x = T @ x"
   ]
  },
  {
   "cell_type": "markdown",
   "id": "1e458fa4",
   "metadata": {},
   "source": [
    "    Starting from a clear day, the chain coverges rapidly within 5-10 steps to ~56% clear / 44% rainy (by Step 10 the difference is miniscule ~10⁻³ or less).\n",
    "\n",
    "    Starting from a rainy day, the chain converges nearly the same as from a clear day."
   ]
  },
  {
   "cell_type": "code",
   "execution_count": 200,
   "id": "137362e2",
   "metadata": {},
   "outputs": [
    {
     "data": {
      "image/png": "[encoded data removed]",
      "text/plain": [
       "<Figure size 800x500 with 1 Axes>"
      ]
     },
     "metadata": {},
     "output_type": "display_data"
    }
   ],
   "source": [
    "import seaborn as sns\n",
    "import matplotlib.pyplot as plt\n",
    "\n",
    "# Subset conditional on being rainy\n",
    "rainy_days = weather[weather[\"rain\"] == 1]\n",
    "\n",
    "plt.figure(figsize=(8,5))\n",
    "sns.kdeplot(data=rainy_days, x=\"PRCP\", fill=True, color=\"steelblue\", bw_adjust=1.0)\n",
    "\n",
    "plt.title(\"Distribution of Precipitation on Rainy Days\")\n",
    "plt.xlabel(\"Precipitation (PRCP)\")\n",
    "plt.ylabel(\"Density\")\n",
    "\n",
    "plt.show()"
   ]
  },
  {
   "cell_type": "markdown",
   "id": "112ede7e",
   "metadata": {},
   "source": [
    "    KDE shows a right-skewed distribution — light rain days dominate, heavy rain is infrequent."
   ]
  },
  {
   "cell_type": "markdown",
   "id": "447c2e8b",
   "metadata": {},
   "source": [
    "    One way to improve the model is to expand from a simple two-state Markov chain into a multivariate Markov model that includes other variables (temperature, humidity, pressure) that affect rain patterns."
   ]
  },
  {
   "cell_type": "markdown",
   "id": "b953c2c4",
   "metadata": {},
   "source": [
    "## 4. Taxicab trajectories: Using the pickled taxicab data, we want to complete the exercise from class.\n",
    "\n",
    "- For the taxicab trajectory data, determine your state space and clean your sequences of cab rides.\n",
    "- Compute the transition matrix for the taxicab data between neighborhoods in Manhattan. Plot it in a heat map. What are the most common routes?\n",
    "- Explain why taxicabs are most likely order 1, and not 2 or more.\n",
    "- Starting at Hell's Kitchen, create a sequence of forecasts of where the cab is likely to be in 2, 3, 5, and 10 trips\n",
    "- Starting at any neighborhood, iterate your forecast until it is no longer changing very much. Where do cabs spend most of their time working in Manhattan?"
   ]
  },
  {
   "cell_type": "code",
   "execution_count": null,
   "id": "1635c2cf",
   "metadata": {},
   "outputs": [
    {
     "name": "stdout",
     "output_type": "stream",
     "text": [
      "1000\n"
     ]
    },
    {
     "data": {
      "text/plain": [
       "0     Outside Manhattan\n",
       "0     Outside Manhattan\n",
       "0     Outside Manhattan\n",
       "0     Outside Manhattan\n",
       "0     Outside Manhattan\n",
       "            ...        \n",
       "29                 SoHo\n",
       "29                 SoHo\n",
       "13    Greenwich Village\n",
       "3               Chelsea\n",
       "3               Chelsea\n",
       "Name: nbhd, Length: 26026, dtype: object"
      ]
     },
     "execution_count": 29,
     "metadata": {},
     "output_type": "execute_result"
    }
   ],
   "source": [
    "import numpy as np\n",
    "import pandas as pd\n",
    "import matplotlib.pyplot as plt\n",
    "import seaborn as sns\n",
    "import pickle\n",
    "\n",
    "with open('taxicab.pkl', 'rb') as f:\n",
    "    data = pickle.load(f)\n",
    "\n",
    "print (len(data))\n",
    "data[0]"
   ]
  },
  {
   "cell_type": "code",
   "execution_count": 207,
   "id": "ffc5ba41",
   "metadata": {},
   "outputs": [
    {
     "data": {
      "text/plain": [
       "33"
      ]
     },
     "execution_count": 207,
     "metadata": {},
     "output_type": "execute_result"
    }
   ],
   "source": [
    "len(set(data[0]))"
   ]
  },
  {
   "cell_type": "code",
   "execution_count": 208,
   "id": "28c3305c",
   "metadata": {},
   "outputs": [],
   "source": [
    "## Extract state space --> neighborhoods\n",
    "\n",
    "states = set(data[0])              \n",
    "for i in range(1,len(data)):          \n",
    "    trip_i = set(data[i])\n",
    "    states = states.union(trip_i)\n",
    "states = list(states)"
   ]
  },
  {
   "cell_type": "code",
   "execution_count": 209,
   "id": "6eeffdb1",
   "metadata": {},
   "outputs": [],
   "source": [
    "trip = data[0]"
   ]
  },
  {
   "cell_type": "code",
   "execution_count": 210,
   "id": "eff6a5ce",
   "metadata": {},
   "outputs": [
    {
     "data": {
      "text/plain": [
       "array(['Outside Manhattan', 'Outside Manhattan', 'Outside Manhattan', ...,\n",
       "       'Greenwich Village', 'Chelsea', 'Chelsea'],\n",
       "      shape=(26026,), dtype=object)"
      ]
     },
     "execution_count": 210,
     "metadata": {},
     "output_type": "execute_result"
    }
   ],
   "source": [
    "seq = np.array(trip)\n",
    "seq"
   ]
  },
  {
   "cell_type": "code",
   "execution_count": 211,
   "id": "304ed21c",
   "metadata": {},
   "outputs": [],
   "source": [
    "t=1"
   ]
  },
  {
   "cell_type": "code",
   "execution_count": 56,
   "id": "6aa2d5e5",
   "metadata": {},
   "outputs": [
    {
     "name": "stdout",
     "output_type": "stream",
     "text": [
      "Transition counts:\n",
      " [[0.00000e+00 0.00000e+00 0.00000e+00 ... 0.00000e+00 0.00000e+00\n",
      "  0.00000e+00]\n",
      " [0.00000e+00 3.23970e+04 7.60000e+01 ... 2.28000e+02 5.08100e+03\n",
      "  1.37000e+02]\n",
      " [0.00000e+00 8.30000e+01 5.49300e+03 ... 6.35000e+02 1.08600e+03\n",
      "  1.74000e+02]\n",
      " ...\n",
      " [0.00000e+00 1.61000e+02 6.90000e+02 ... 2.51120e+04 3.27000e+03\n",
      "  1.04900e+03]\n",
      " [0.00000e+00 6.20700e+03 9.38000e+02 ... 3.51400e+03 3.46322e+05\n",
      "  2.10500e+03]\n",
      " [0.00000e+00 1.56000e+02 2.25000e+02 ... 1.17000e+03 1.94900e+03\n",
      "  1.60010e+04]]\n"
     ]
    }
   ],
   "source": [
    "## Compute transition counts:\n",
    "\n",
    "S = len(states)\n",
    "tr_counts = np.zeros((S,S)) # rows: to, cols: from\n",
    "\n",
    "for trip in data:\n",
    "    seq = np.array(trip)\n",
    "    for t in range(1, len(seq)):\n",
    "    # Current and next tokens:\n",
    "        x_tm1 = seq[t-1] # previous state\n",
    "        x_t = seq[t] # current state\n",
    "        # Determine transition indices:\n",
    "        index_from = states.index(x_tm1)\n",
    "        index_to = states.index(x_t)\n",
    "        # Update transition counts:\n",
    "        tr_counts[index_to, index_from] += 1\n",
    "\n",
    "print('Transition counts:\\n', tr_counts)\n"
   ]
  },
  {
   "cell_type": "code",
   "execution_count": 216,
   "id": "d0c808f4",
   "metadata": {},
   "outputs": [
    {
     "data": {
      "text/plain": [
       "'Outside Manhattan'"
      ]
     },
     "execution_count": 216,
     "metadata": {},
     "output_type": "execute_result"
    }
   ],
   "source": [
    "x_tm1"
   ]
  },
  {
   "cell_type": "code",
   "execution_count": 215,
   "id": "d116f7ed",
   "metadata": {},
   "outputs": [
    {
     "data": {
      "text/plain": [
       "'Outside Manhattan'"
      ]
     },
     "execution_count": 215,
     "metadata": {},
     "output_type": "execute_result"
    }
   ],
   "source": [
    "x_t\n"
   ]
  },
  {
   "cell_type": "code",
   "execution_count": 220,
   "id": "ae1527be",
   "metadata": {},
   "outputs": [
    {
     "name": "stdout",
     "output_type": "stream",
     "text": [
      "State counts:\n",
      "\n",
      "[[1.000000e+00 1.627100e+05 5.791000e+04 1.063810e+05 3.859100e+04\n",
      "  8.740570e+05 1.431100e+04 5.077810e+05 1.803502e+06 2.797710e+06\n",
      "  1.058700e+05 5.102590e+05 3.851989e+06 2.363902e+06 6.544000e+05\n",
      "  8.886410e+05 3.705730e+05 2.171460e+05 4.930000e+02 8.010000e+03\n",
      "  2.292350e+05 3.168450e+05 7.252200e+04 3.000000e+00 4.415730e+05\n",
      "  5.017520e+05 1.038800e+04 1.978286e+06 3.603000e+03 3.952900e+05\n",
      "  1.200000e+01 5.505930e+05 3.701250e+05 4.086350e+05 8.393600e+05\n",
      "  1.743200e+05 1.224335e+06 1.112820e+05]]\n"
     ]
    }
   ],
   "source": [
    "# Sum the transition counts by row:\n",
    "\n",
    "sums = tr_counts.sum(axis = 0, keepdims = True)\n",
    "print('State counts:\\n')  \n",
    "print(sums)"
   ]
  },
  {
   "cell_type": "code",
   "execution_count": null,
   "id": "455ca31b",
   "metadata": {},
   "outputs": [
    {
     "name": "stdout",
     "output_type": "stream",
     "text": [
      "                     Liberty Island  Morningside Heights  Civic Center  \\\n",
      "Liberty Island                  0.0                 0.00          0.00   \n",
      "Morningside Heights             0.0                 0.20          0.00   \n",
      "Civic Center                    0.0                 0.00          0.09   \n",
      "Nolita                          0.0                 0.00          0.01   \n",
      "Little Italy                    0.0                 0.00          0.01   \n",
      "Theater District                0.0                 0.02          0.02   \n",
      "Inwood                          0.0                 0.00          0.00   \n",
      "Kips Bay                        0.0                 0.00          0.01   \n",
      "Upper West Side                 0.0                 0.35          0.01   \n",
      "Upper East Side                 0.0                 0.08          0.03   \n",
      "Chinatown                       0.0                 0.00          0.03   \n",
      "Greenwich Village               0.0                 0.00          0.02   \n",
      "Midtown                         0.0                 0.06          0.07   \n",
      "Outside Manhattan               0.0                 0.04          0.09   \n",
      "Murray Hill                     0.0                 0.00          0.02   \n",
      "East Village                    0.0                 0.01          0.04   \n",
      "Lower East Side                 0.0                 0.00          0.04   \n",
      "Harlem                          0.0                 0.06          0.00   \n",
      "Marble Hill                     0.0                 0.00          0.00   \n",
      "Roosevelt Island                0.0                 0.00          0.00   \n",
      "Battery Park City               0.0                 0.00          0.02   \n",
      "East Harlem                     0.0                 0.03          0.00   \n",
      "Washington Heights              0.0                 0.02          0.00   \n",
      "Ellis Island                    0.0                 0.00          0.00   \n",
      "Financial District              0.0                 0.00          0.11   \n",
      "Gramercy                        1.0                 0.00          0.01   \n",
      "Two Bridges                     0.0                 0.00          0.00   \n",
      "Chelsea                         0.0                 0.03          0.05   \n",
      "Randall's Island                0.0                 0.00          0.00   \n",
      "Flatiron District               0.0                 0.00          0.01   \n",
      "Governors Island                0.0                 0.00          0.00   \n",
      "SoHo                            0.0                 0.00          0.07   \n",
      "Central Park                    0.0                 0.02          0.00   \n",
      "Tribeca                         0.0                 0.00          0.14   \n",
      "West Village                    0.0                 0.01          0.04   \n",
      "NoHo                            0.0                 0.00          0.01   \n",
      "Hell's Kitchen                  0.0                 0.04          0.02   \n",
      "Stuyvesant Town                 0.0                 0.00          0.00   \n",
      "\n",
      "                     Nolita  Little Italy  Theater District  Inwood  Kips Bay  \\\n",
      "Liberty Island         0.00          0.00              0.00    0.00      0.00   \n",
      "Morningside Heights    0.00          0.00              0.00    0.12      0.00   \n",
      "Civic Center           0.00          0.01              0.00    0.00      0.00   \n",
      "Nolita                 0.16          0.08              0.00    0.00      0.00   \n",
      "Little Italy           0.01          0.10              0.00    0.00      0.00   \n",
      "Theater District       0.01          0.03              0.21    0.03      0.02   \n",
      "Inwood                 0.00          0.00              0.00    0.07      0.00   \n",
      "Kips Bay               0.02          0.01              0.01    0.00      0.19   \n",
      "Upper West Side        0.02          0.02              0.07    0.18      0.02   \n",
      "Upper East Side        0.03          0.03              0.06    0.06      0.07   \n",
      "Chinatown              0.01          0.03              0.00    0.00      0.00   \n",
      "Greenwich Village      0.04          0.03              0.01    0.00      0.02   \n",
      "Midtown                0.07          0.08              0.21    0.06      0.19   \n",
      "Outside Manhattan      0.11          0.08              0.07    0.07      0.05   \n",
      "Murray Hill            0.02          0.02              0.02    0.01      0.09   \n",
      "East Village           0.09          0.06              0.01    0.01      0.06   \n",
      "Lower East Side        0.05          0.04              0.00    0.00      0.02   \n",
      "Harlem                 0.00          0.00              0.01    0.08      0.00   \n",
      "Marble Hill            0.00          0.00              0.00    0.00      0.00   \n",
      "Roosevelt Island       0.00          0.00              0.00    0.00      0.00   \n",
      "Battery Park City      0.01          0.01              0.01    0.00      0.00   \n",
      "East Harlem            0.00          0.00              0.01    0.03      0.01   \n",
      "Washington Heights     0.00          0.00              0.00    0.08      0.00   \n",
      "Ellis Island           0.00          0.00              0.00    0.00      0.00   \n",
      "Financial District     0.02          0.03              0.01    0.00      0.01   \n",
      "Gramercy               0.03          0.02              0.01    0.00      0.05   \n",
      "Two Bridges            0.00          0.00              0.00    0.00      0.00   \n",
      "Chelsea                0.06          0.06              0.09    0.04      0.07   \n",
      "Randall's Island       0.00          0.00              0.00    0.00      0.00   \n",
      "Flatiron District      0.01          0.01              0.01    0.00      0.03   \n",
      "Governors Island       0.00          0.00              0.00    0.00      0.00   \n",
      "SoHo                   0.09          0.11              0.01    0.00      0.01   \n",
      "Central Park           0.00          0.00              0.02    0.01      0.00   \n",
      "Tribeca                0.02          0.02              0.01    0.00      0.01   \n",
      "West Village           0.05          0.04              0.02    0.01      0.02   \n",
      "NoHo                   0.05          0.03              0.00    0.00      0.01   \n",
      "Hell's Kitchen         0.02          0.03              0.12    0.10      0.02   \n",
      "Stuyvesant Town        0.01          0.00              0.00    0.00      0.01   \n",
      "\n",
      "                     Upper West Side  Upper East Side  ...  Randall's Island  \\\n",
      "Liberty Island                  0.00             0.00  ...              0.00   \n",
      "Morningside Heights             0.02             0.00  ...              0.01   \n",
      "Civic Center                    0.00             0.00  ...              0.00   \n",
      "Nolita                          0.00             0.00  ...              0.00   \n",
      "Little Italy                    0.00             0.00  ...              0.00   \n",
      "Theater District                0.04             0.02  ...              0.01   \n",
      "Inwood                          0.00             0.00  ...              0.00   \n",
      "Kips Bay                        0.00             0.01  ...              0.00   \n",
      "Upper West Side                 0.42             0.07  ...              0.06   \n",
      "Upper East Side                 0.11             0.46  ...              0.22   \n",
      "Chinatown                       0.00             0.00  ...              0.00   \n",
      "Greenwich Village               0.01             0.01  ...              0.00   \n",
      "Midtown                         0.12             0.18  ...              0.06   \n",
      "Outside Manhattan               0.04             0.05  ...              0.17   \n",
      "Murray Hill                     0.01             0.02  ...              0.01   \n",
      "East Village                    0.01             0.01  ...              0.01   \n",
      "Lower East Side                 0.00             0.00  ...              0.00   \n",
      "Harlem                          0.02             0.01  ...              0.02   \n",
      "Marble Hill                     0.00             0.00  ...              0.00   \n",
      "Roosevelt Island                0.00             0.00  ...              0.00   \n",
      "Battery Park City               0.00             0.00  ...              0.00   \n",
      "East Harlem                     0.01             0.03  ...              0.17   \n",
      "Washington Heights              0.01             0.00  ...              0.00   \n",
      "Ellis Island                    0.00             0.00  ...              0.00   \n",
      "Financial District              0.00             0.01  ...              0.00   \n",
      "Gramercy                        0.00             0.01  ...              0.00   \n",
      "Two Bridges                     0.00             0.00  ...              0.00   \n",
      "Chelsea                         0.04             0.03  ...              0.01   \n",
      "Randall's Island                0.00             0.00  ...              0.18   \n",
      "Flatiron District               0.00             0.01  ...              0.00   \n",
      "Governors Island                0.00             0.00  ...              0.00   \n",
      "SoHo                            0.00             0.01  ...              0.00   \n",
      "Central Park                    0.03             0.03  ...              0.02   \n",
      "Tribeca                         0.00             0.00  ...              0.00   \n",
      "West Village                    0.01             0.01  ...              0.01   \n",
      "NoHo                            0.00             0.00  ...              0.00   \n",
      "Hell's Kitchen                  0.08             0.02  ...              0.01   \n",
      "Stuyvesant Town                 0.00             0.00  ...              0.00   \n",
      "\n",
      "                     Flatiron District  Governors Island  SoHo  Central Park  \\\n",
      "Liberty Island                    0.00              0.00  0.00          0.00   \n",
      "Morningside Heights               0.00              0.00  0.00          0.01   \n",
      "Civic Center                      0.00              0.00  0.01          0.00   \n",
      "Nolita                            0.00              0.00  0.02          0.00   \n",
      "Little Italy                      0.00              0.00  0.00          0.00   \n",
      "Theater District                  0.03              0.00  0.02          0.04   \n",
      "Inwood                            0.00              0.00  0.00          0.00   \n",
      "Kips Bay                          0.04              0.00  0.01          0.00   \n",
      "Upper West Side                   0.02              0.00  0.02          0.22   \n",
      "Upper East Side                   0.05              0.00  0.03          0.20   \n",
      "Chinatown                         0.00              0.00  0.01          0.00   \n",
      "Greenwich Village                 0.04              0.00  0.05          0.01   \n",
      "Midtown                           0.16              0.00  0.08          0.19   \n",
      "Outside Manhattan                 0.05              0.33  0.07          0.03   \n",
      "Murray Hill                       0.04              0.00  0.02          0.01   \n",
      "East Village                      0.04              0.08  0.05          0.01   \n",
      "Lower East Side                   0.01              0.00  0.02          0.00   \n",
      "Harlem                            0.00              0.00  0.00          0.01   \n",
      "Marble Hill                       0.00              0.00  0.00          0.00   \n",
      "Roosevelt Island                  0.00              0.00  0.00          0.00   \n",
      "Battery Park City                 0.01              0.00  0.02          0.00   \n",
      "East Harlem                       0.00              0.00  0.00          0.02   \n",
      "Washington Heights                0.00              0.00  0.00          0.00   \n",
      "Ellis Island                      0.00              0.00  0.00          0.00   \n",
      "Financial District                0.01              0.08  0.03          0.00   \n",
      "Gramercy                          0.05              0.08  0.02          0.01   \n",
      "Two Bridges                       0.00              0.00  0.00          0.00   \n",
      "Chelsea                           0.15              0.17  0.09          0.03   \n",
      "Randall's Island                  0.00              0.00  0.00          0.00   \n",
      "Flatiron District                 0.16              0.00  0.02          0.01   \n",
      "Governors Island                  0.00              0.17  0.00          0.00   \n",
      "SoHo                              0.02              0.00  0.25          0.01   \n",
      "Central Park                      0.00              0.00  0.00          0.14   \n",
      "Tribeca                           0.01              0.00  0.04          0.00   \n",
      "West Village                      0.03              0.00  0.09          0.01   \n",
      "NoHo                              0.01              0.00  0.02          0.00   \n",
      "Hell's Kitchen                    0.03              0.00  0.02          0.04   \n",
      "Stuyvesant Town                   0.01              0.08  0.00          0.00   \n",
      "\n",
      "                     Tribeca  West Village  NoHo  Hell's Kitchen  \\\n",
      "Liberty Island          0.00          0.00  0.00            0.00   \n",
      "Morningside Heights     0.00          0.00  0.00            0.00   \n",
      "Civic Center            0.01          0.00  0.00            0.00   \n",
      "Nolita                  0.01          0.01  0.01            0.00   \n",
      "Little Italy            0.00          0.00  0.00            0.00   \n",
      "Theater District        0.02          0.02  0.01            0.08   \n",
      "Inwood                  0.00          0.00  0.00            0.00   \n",
      "Kips Bay                0.01          0.01  0.03            0.01   \n",
      "Upper West Side         0.02          0.02  0.02            0.10   \n",
      "Upper East Side         0.03          0.03  0.04            0.05   \n",
      "Chinatown               0.01          0.00  0.01            0.00   \n",
      "Greenwich Village       0.03          0.05  0.06            0.01   \n",
      "Midtown                 0.07          0.08  0.09            0.15   \n",
      "Outside Manhattan       0.07          0.05  0.08            0.05   \n",
      "Murray Hill             0.01          0.01  0.03            0.01   \n",
      "East Village            0.03          0.04  0.12            0.01   \n",
      "Lower East Side         0.02          0.01  0.02            0.01   \n",
      "Harlem                  0.00          0.00  0.00            0.01   \n",
      "Marble Hill             0.00          0.00  0.00            0.00   \n",
      "Roosevelt Island        0.00          0.00  0.00            0.00   \n",
      "Battery Park City       0.05          0.01  0.01            0.01   \n",
      "East Harlem             0.00          0.00  0.00            0.01   \n",
      "Washington Heights      0.00          0.00  0.00            0.00   \n",
      "Ellis Island            0.00          0.00  0.00            0.00   \n",
      "Financial District      0.05          0.02  0.02            0.01   \n",
      "Gramercy                0.01          0.02  0.05            0.01   \n",
      "Two Bridges             0.00          0.00  0.00            0.00   \n",
      "Chelsea                 0.08          0.15  0.08            0.11   \n",
      "Randall's Island        0.00          0.00  0.00            0.00   \n",
      "Flatiron District       0.01          0.02  0.02            0.01   \n",
      "Governors Island        0.00          0.00  0.00            0.00   \n",
      "SoHo                    0.09          0.05  0.05            0.01   \n",
      "Central Park            0.00          0.00  0.00            0.01   \n",
      "Tribeca                 0.25          0.03  0.02            0.01   \n",
      "West Village            0.08          0.29  0.05            0.03   \n",
      "NoHo                    0.01          0.01  0.14            0.00   \n",
      "Hell's Kitchen          0.03          0.04  0.02            0.28   \n",
      "Stuyvesant Town         0.00          0.00  0.01            0.00   \n",
      "\n",
      "                     Stuyvesant Town  \n",
      "Liberty Island                  0.00  \n",
      "Morningside Heights             0.00  \n",
      "Civic Center                    0.00  \n",
      "Nolita                          0.00  \n",
      "Little Italy                    0.00  \n",
      "Theater District                0.01  \n",
      "Inwood                          0.00  \n",
      "Kips Bay                        0.09  \n",
      "Upper West Side                 0.02  \n",
      "Upper East Side                 0.06  \n",
      "Chinatown                       0.00  \n",
      "Greenwich Village               0.02  \n",
      "Midtown                         0.13  \n",
      "Outside Manhattan               0.05  \n",
      "Murray Hill                     0.04  \n",
      "East Village                    0.10  \n",
      "Lower East Side                 0.02  \n",
      "Harlem                          0.00  \n",
      "Marble Hill                     0.00  \n",
      "Roosevelt Island                0.00  \n",
      "Battery Park City               0.00  \n",
      "East Harlem                     0.01  \n",
      "Washington Heights              0.00  \n",
      "Ellis Island                    0.00  \n",
      "Financial District              0.02  \n",
      "Gramercy                        0.09  \n",
      "Two Bridges                     0.00  \n",
      "Chelsea                         0.07  \n",
      "Randall's Island                0.00  \n",
      "Flatiron District               0.02  \n",
      "Governors Island                0.00  \n",
      "SoHo                            0.01  \n",
      "Central Park                    0.00  \n",
      "Tribeca                         0.01  \n",
      "West Village                    0.02  \n",
      "NoHo                            0.01  \n",
      "Hell's Kitchen                  0.02  \n",
      "Stuyvesant Town                 0.14  \n",
      "\n",
      "[38 rows x 38 columns]\n"
     ]
    },
    {
     "data": {
      "text/plain": [
       "<Axes: >"
      ]
     },
     "execution_count": 221,
     "metadata": {},
     "output_type": "execute_result"
    },
    {
     "data": {
      "image/png": "[encoded data removed]",
      "text/plain": [
       "<Figure size 1200x1000 with 2 Axes>"
      ]
     },
     "metadata": {},
     "output_type": "display_data"
    }
   ],
   "source": [
    "# Compute the transition matrix for the taxicab data between neighborhoods in Manhattan\n",
    "\n",
    "tr_pr = tr_counts / sums\n",
    "tr_pr = np.round(tr_pr, 2)\n",
    "\n",
    "tr_df = pd.DataFrame(tr_pr, columns=states, index=states)\n",
    "print(tr_df)\n",
    "\n",
    "plt.figure(figsize=(12, 10))\n",
    "sns.heatmap(tr_pr, cmap = 'Blues', square = True, xticklabels = states, yticklabels = states, cbar_kws = {'label': 'Transition Probability'})"
   ]
  },
  {
   "cell_type": "code",
   "execution_count": 227,
   "id": "b5285ae5",
   "metadata": {},
   "outputs": [
    {
     "name": "stdout",
     "output_type": "stream",
     "text": [
      "Midtown --> Midtown: 1,389,343 trips, P(to|from) = 0.360\n",
      "Upper East Side --> Upper East Side: 1,283,151 trips, P(to|from) = 0.460\n",
      "Outside Manhattan --> Outside Manhattan: 1,203,902 trips, P(to|from) = 0.510\n",
      "Upper West Side --> Upper West Side: 763,963 trips, P(to|from) = 0.420\n",
      "Chelsea --> Chelsea: 662,397 trips, P(to|from) = 0.330\n",
      "Upper East Side --> Midtown: 507,502 trips, P(to|from) = 0.180\n",
      "Midtown --> Upper East Side: 484,395 trips, P(to|from) = 0.130\n",
      "Hell's Kitchen --> Hell's Kitchen: 346,322 trips, P(to|from) = 0.280\n",
      "Midtown --> Chelsea: 278,191 trips, P(to|from) = 0.070\n",
      "Chelsea --> Midtown: 260,420 trips, P(to|from) = 0.130\n"
     ]
    }
   ],
   "source": [
    "routes = []\n",
    "for i_from, frm in enumerate(states):\n",
    "    for i_to, to in enumerate(states):\n",
    "        cnt = tr_counts[i_to, i_from]\n",
    "        if cnt > 0:  # skip empty transitions\n",
    "            routes.append((frm, to, int(cnt), float(tr_pr[i_to, i_from])))\n",
    "\n",
    "# Sort by raw trip counts (most actual trips)\n",
    "routes_by_count = sorted(routes, key=lambda x: x[2], reverse=True)\n",
    "\n",
    "# Sort by conditional probability (most likely given the origin)\n",
    "routes_by_prob = sorted(routes, key=lambda x: x[3], reverse=True)\n",
    "\n",
    "for frm, to, cnt, prob in routes_by_count[:10]:\n",
    "    print(f\"{frm} --> {to}: {cnt:,} trips, P(to|from) = {prob:.3f}\")"
   ]
  },
  {
   "cell_type": "markdown",
   "id": "0c08a2c9",
   "metadata": {},
   "source": [
    "**Most common routes**\n",
    "\n",
    "    Bright diagonal line (top-left to bottom-right) indicates that most taxis tend to stay within the same neighborhood, or at least trips that start and end in the same labeled zone are common. The few other bright off-diagonal spots indicate likely popular cross-neighborhood routes [e.g., Morningside Heights - Upper West Side; Ellis Island - Little Italy / Tribeca; etc.]\n",
    "\n",
    "    Top 10 routes by observed trip counts:\n",
    "\n",
    "        Midtown --> Midtown: 1,389,343 trips, P(to|from) = 0.360\n",
    "        Upper East Side --> Upper East Side: 1,283,151 trips, P(to|from) = 0.460\n",
    "        Outside Manhattan --> Outside Manhattan: 1,203,902 trips, P(to|from) = 0.510\n",
    "        Upper West Side --> Upper West Side: 763,963 trips, P(to|from) = 0.420\n",
    "        Chelsea --> Chelsea: 662,397 trips, P(to|from) = 0.330\n",
    "        Upper East Side --> Midtown: 507,502 trips, P(to|from) = 0.180\n",
    "        Midtown --> Upper East Side: 484,395 trips, P(to|from) = 0.130\n",
    "        Hell's Kitchen --> Hell's Kitchen: 346,322 trips, P(to|from) = 0.280\n",
    "        Midtown --> Chelsea: 278,191 trips, P(to|from) = 0.070\n",
    "        Chelsea --> Midtown: 260,420 trips, P(to|from) = 0.130\n",
    "\n",
    "\n"
   ]
  },
  {
   "cell_type": "markdown",
   "id": "b6516565",
   "metadata": {},
   "source": [
    "**Taxicabs are most likely order 1** \n",
    "\n",
    "    (next location depends only on the current location) because once a taxi reaches a neighborhood, its next pickup or drop-off depends on current demand in that area and not on where it came from. Once the cab reaches a new neighborhood, where it came from no longer influences where it goes next."
   ]
  },
  {
   "cell_type": "code",
   "execution_count": 228,
   "id": "c7943c6c",
   "metadata": {},
   "outputs": [
    {
     "name": "stdout",
     "output_type": "stream",
     "text": [
      "After 2 trips from Hell's Kitchen:\n",
      "  Hell's Kitchen: P = 0.280\n",
      "  Midtown: P = 0.150\n",
      "  Chelsea: P = 0.110\n",
      "After 3 trips from Hell's Kitchen:\n",
      "  Midtown: P = 0.171\n",
      "  Hell's Kitchen: P = 0.118\n",
      "  Chelsea: P = 0.106\n",
      "After 4 trips from Hell's Kitchen:\n",
      "  Midtown: P = 0.169\n",
      "  Upper East Side: P = 0.110\n",
      "  Chelsea: P = 0.096\n",
      "After 5 trips from Hell's Kitchen:\n",
      "  Midtown: P = 0.165\n",
      "  Upper East Side: P = 0.116\n",
      "  Outside Manhattan: P = 0.095\n",
      "After 6 trips from Hell's Kitchen:\n",
      "  Midtown: P = 0.162\n",
      "  Upper East Side: P = 0.117\n",
      "  Outside Manhattan: P = 0.097\n",
      "After 7 trips from Hell's Kitchen:\n",
      "  Midtown: P = 0.159\n",
      "  Upper East Side: P = 0.117\n",
      "  Outside Manhattan: P = 0.098\n",
      "After 8 trips from Hell's Kitchen:\n",
      "  Midtown: P = 0.157\n",
      "  Upper East Side: P = 0.115\n",
      "  Outside Manhattan: P = 0.098\n",
      "After 9 trips from Hell's Kitchen:\n",
      "  Midtown: P = 0.155\n",
      "  Upper East Side: P = 0.114\n",
      "  Outside Manhattan: P = 0.097\n",
      "After 10 trips from Hell's Kitchen:\n",
      "  Midtown: P = 0.153\n",
      "  Upper East Side: P = 0.112\n",
      "  Outside Manhattan: P = 0.097\n"
     ]
    }
   ],
   "source": [
    "# Starting at Hell's Kitchen, create a sequence of forecasts of where the cab is likely to be in 2, 3, 5, and 10 trips\n",
    "\n",
    "current_location = \"Hell's Kitchen\"\n",
    "current_index = states.index(current_location)\n",
    "x = np.zeros(len(states))\n",
    "x[current_index] = 1.0  # one-hot encode current location\n",
    "\n",
    "for t in range(2, 11):\n",
    "    x = tr_pr @ x\n",
    "    # Get top 3 most likely locations\n",
    "    top_indices = np.argsort(x)[-3:][::-1]\n",
    "    top_locations = [(states[i], x[i]) for i in top_indices]\n",
    "    print(f\"After {t} trips from {current_location}:\")\n",
    "    for loc, prob in top_locations:\n",
    "        print(f\"  {loc}: P = {prob:.3f}\")    \n",
    "                    "
   ]
  },
  {
   "cell_type": "code",
   "execution_count": 251,
   "id": "90946ab6",
   "metadata": {},
   "outputs": [
    {
     "name": "stdout",
     "output_type": "stream",
     "text": [
      "Converged after 214 steps (change=9.89e-04)\n",
      "     Neighborhood  Long-run Probability\n",
      "          Midtown              0.169788\n",
      "  Upper East Side              0.124598\n",
      "Outside Manhattan              0.107647\n",
      "          Chelsea              0.089759\n",
      "  Upper West Side              0.075947\n",
      "   Hell's Kitchen              0.055094\n",
      " Theater District              0.039579\n",
      "     East Village              0.038522\n",
      "     West Village              0.038160\n",
      "      Murray Hill              0.028058\n"
     ]
    }
   ],
   "source": [
    "# Starting at any neighborhood, iterate your forecast until it is no longer changing very much. \n",
    "\n",
    "start_state = \"Hell's Kitchen\"\n",
    "x = np.zeros(len(states))\n",
    "x[states.index(start_state)] = 1.0  # one-hot start\n",
    "\n",
    "# tolerance for convergence\n",
    "tol = 1e-3\n",
    "max_iters = 1000\n",
    "\n",
    "for step in range(max_iters):\n",
    "    x_next = T @ x\n",
    "    diff = np.linalg.norm(x_next - x, ord=1)  # L1 distance\n",
    "    if diff < tol:\n",
    "        print(f\"Converged after {step+1} steps (change={diff:.2e})\")\n",
    "        break\n",
    "    x = x_next\n",
    "\n",
    "x = x / x.sum()\n",
    "\n",
    "# Show top 10 neighborhoods in long-run equilibrium\n",
    "steady_state = pd.DataFrame({\n",
    "    \"Neighborhood\": states,\n",
    "    \"Long-run Probability\": x\n",
    "}).sort_values(\"Long-run Probability\", ascending=False)\n",
    "\n",
    "print(steady_state.head(10).to_string(index=False))\n",
    "    "
   ]
  },
  {
   "cell_type": "code",
   "execution_count": 250,
   "id": "d33219d0",
   "metadata": {},
   "outputs": [
    {
     "name": "stdout",
     "output_type": "stream",
     "text": [
      "Converged after 212 steps (change=9.99e-04)\n",
      "     Neighborhood  Long-run Probability\n",
      "          Midtown              0.169788\n",
      "  Upper East Side              0.124598\n",
      "Outside Manhattan              0.107647\n",
      "          Chelsea              0.089759\n",
      "  Upper West Side              0.075947\n",
      "   Hell's Kitchen              0.055094\n",
      " Theater District              0.039579\n",
      "     East Village              0.038522\n",
      "     West Village              0.038160\n",
      "      Murray Hill              0.028058\n"
     ]
    }
   ],
   "source": [
    "# starting in Chelsea\n",
    "\n",
    "start_state = \"Chelsea\"\n",
    "x = np.zeros(len(states))\n",
    "x[states.index(start_state)] = 1.0  # one-hot start\n",
    "\n",
    "# tolerance for convergence\n",
    "tol = 1e-3\n",
    "max_iters = 1000\n",
    "\n",
    "for step in range(max_iters):\n",
    "    x_next = T @ x\n",
    "    diff = np.linalg.norm(x_next - x, ord=1)  # L1 distance\n",
    "    if diff < tol:\n",
    "        print(f\"Converged after {step+1} steps (change={diff:.2e})\")\n",
    "        break\n",
    "    x = x_next\n",
    "\n",
    "x = x / x.sum()\n",
    "\n",
    "# Show top 10 neighborhoods in long-run equilibrium\n",
    "steady_state = pd.DataFrame({\n",
    "    \"Neighborhood\": states,\n",
    "    \"Long-run Probability\": x\n",
    "}).sort_values(\"Long-run Probability\", ascending=False)\n",
    "\n",
    "print(steady_state.head(10).to_string(index=False))"
   ]
  },
  {
   "cell_type": "code",
   "execution_count": 249,
   "id": "df48d630",
   "metadata": {},
   "outputs": [
    {
     "name": "stdout",
     "output_type": "stream",
     "text": [
      "Converged after 216 steps (change=9.92e-04)\n",
      "     Neighborhood  Long-run Probability\n",
      "          Midtown              0.169788\n",
      "  Upper East Side              0.124598\n",
      "Outside Manhattan              0.107647\n",
      "          Chelsea              0.089759\n",
      "  Upper West Side              0.075947\n",
      "   Hell's Kitchen              0.055094\n",
      " Theater District              0.039579\n",
      "     East Village              0.038522\n",
      "     West Village              0.038160\n",
      "      Murray Hill              0.028058\n"
     ]
    }
   ],
   "source": [
    "# starting in Murray Hill\n",
    "\n",
    "start_state = \"Murray Hill\"\n",
    "x = np.zeros(len(states))\n",
    "x[states.index(start_state)] = 1.0  # one-hot start\n",
    "\n",
    "# tolerance for convergence\n",
    "tol = 1e-3\n",
    "max_iters = 1000\n",
    "\n",
    "for step in range(max_iters):\n",
    "    x_next = T @ x\n",
    "    diff = np.linalg.norm(x_next - x, ord=1)  # L1 distance\n",
    "    if diff < tol:\n",
    "        print(f\"Converged after {step+1} steps (change={diff:.2e})\")\n",
    "        break\n",
    "    x = x_next\n",
    "\n",
    "x = x / x.sum()\n",
    "\n",
    "# Show top 10 neighborhoods in long-run equilibrium\n",
    "steady_state = pd.DataFrame({\n",
    "    \"Neighborhood\": states,\n",
    "    \"Long-run Probability\": x\n",
    "}).sort_values(\"Long-run Probability\", ascending=False)\n",
    "\n",
    "print(steady_state.head(10).to_string(index=False))"
   ]
  },
  {
   "cell_type": "markdown",
   "id": "40c3c1b0",
   "metadata": {},
   "source": [
    "**Where do cabs spend most of their time working in Manhattan?**\n",
    "\n",
    "    In the long run, taxis spend the largest share of their time in Midtown (≈17%), followed by the Upper East Side (≈12%)."
   ]
  }
 ],
 "metadata": {
  "kernelspec": {
   "display_name": "ds6001",
   "language": "python",
   "name": "python3"
  },
  "language_info": {
   "codemirror_mode": {
    "name": "ipython",
    "version": 3
   },
   "file_extension": ".py",
   "mimetype": "text/x-python",
   "name": "python",
   "nbconvert_exporter": "python",
   "pygments_lexer": "ipython3",
   "version": "3.13.5"
  }
 },
 "nbformat": 4,
 "nbformat_minor": 5
}
